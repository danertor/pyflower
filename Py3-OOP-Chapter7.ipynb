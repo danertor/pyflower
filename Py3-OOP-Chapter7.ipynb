{
 "cells": [
  {
   "cell_type": "markdown",
   "metadata": {},
   "source": [
    "# Python Object-oriented Shortcuts"
   ]
  },
  {
   "cell_type": "code",
   "execution_count": 1,
   "metadata": {
    "collapsed": true
   },
   "outputs": [],
   "source": [
    "#Python built-in functions"
   ]
  },
  {
   "cell_type": "code",
   "execution_count": 4,
   "metadata": {
    "collapsed": false
   },
   "outputs": [
    {
     "data": {
      "text/plain": [
       "4"
      ]
     },
     "execution_count": 4,
     "metadata": {},
     "output_type": "execute_result"
    }
   ],
   "source": [
    "len([1,2,3,4]) # it calls object.__len__(object)"
   ]
  },
  {
   "cell_type": "code",
   "execution_count": 5,
   "metadata": {
    "collapsed": false
   },
   "outputs": [
    {
     "data": {
      "text/plain": [
       "4"
      ]
     },
     "execution_count": 5,
     "metadata": {},
     "output_type": "execute_result"
    }
   ],
   "source": [
    "[1,2,3,4].__len__()"
   ]
  },
  {
   "cell_type": "code",
   "execution_count": 7,
   "metadata": {
    "collapsed": false
   },
   "outputs": [
    {
     "data": {
      "text/plain": [
       "<list_reverseiterator at 0x34f5370>"
      ]
     },
     "execution_count": 7,
     "metadata": {},
     "output_type": "execute_result"
    }
   ],
   "source": [
    "reversed([1,2,3,4]) # calls object.__reversed__(object)"
   ]
  },
  {
   "cell_type": "code",
   "execution_count": 15,
   "metadata": {
    "collapsed": false
   },
   "outputs": [
    {
     "name": "stdout",
     "output_type": "stream",
     "text": [
      "\n",
      "list: 5, 4, 3, 2, 1, \n",
      "CustomerSequence: x3, x2, x1, x0, \n",
      "PunkBackwards: B, a, c, k, w, a, r, d, s, !, "
     ]
    }
   ],
   "source": [
    "normal_list=[1,2,3,4,5]\n",
    "class CustomerSequence():\n",
    "    def __len__(self):\n",
    "        return 4\n",
    "    \n",
    "    def __getitem__(self, index):\n",
    "        return \"x{0}\".format(index)\n",
    "    \n",
    "class PunkBackwards():\n",
    "    def __reversed__(Self):\n",
    "        return \"Backwards!\"\n",
    "\n",
    "for seq in normal_list, CustomerSequence(), PunkBackwards():\n",
    "    print(\"\\n{}: \".format(seq.__class__.__name__), end=\"\")\n",
    "    for item in reversed(seq):\n",
    "        print(item, end=\", \")\n",
    "    "
   ]
  },
  {
   "cell_type": "code",
   "execution_count": 17,
   "metadata": {
    "collapsed": true
   },
   "outputs": [],
   "source": [
    "#enumerate.\n",
    "#it generates a sequence of tuples, with an index and the items. (i, item)"
   ]
  },
  {
   "cell_type": "code",
   "execution_count": 37,
   "metadata": {
    "collapsed": false
   },
   "outputs": [
    {
     "name": "stdout",
     "output_type": "stream",
     "text": [
      "1: <html>\n",
      "2: <body>\n",
      "3: <a href=\"contact.html\">Contact us</a>\n",
      "4: <a href=\"blog.html\">Blog</a>\n",
      "5: <a href=\"esme.html\">My Dog</a>\n",
      "6: <a href=\"/hobbies.html\">Some hobbies</a>\n",
      "7: <a href=\"/contact.html\">Contact AGAIN</a>\n",
      "8: </body>\n",
      "9: </html>"
     ]
    }
   ],
   "source": [
    "filename = 'chapter6/index.html'\n",
    "with open(filename) as file:\n",
    "    for index, line in enumerate(file):\n",
    "        print(\"{0}: {1}\".format(index+1, line), end='')"
   ]
  },
  {
   "cell_type": "code",
   "execution_count": 21,
   "metadata": {
    "collapsed": false
   },
   "outputs": [
    {
     "name": "stdout",
     "output_type": "stream",
     "text": [
      "('a', 0)('b', 4)('f', 3.4)('g', 1234123)"
     ]
    }
   ],
   "source": [
    "lista = ['a', 'b', 'f', 'g']\n",
    "list0 = [0, 4, 3.4, 1234123, 0.000001]\n",
    "for item in zip(lista, list0):\n",
    "    print(item, end = '')"
   ]
  },
  {
   "cell_type": "code",
   "execution_count": 22,
   "metadata": {
    "collapsed": true
   },
   "outputs": [],
   "source": [
    "# with content manager\n",
    "# the with uses two built in methods for objects:\n",
    "# __enter__ and __exit__. Everytime we use with over an object in the nested code.\n",
    "#Every time the object enters the nested code and exits.\n"
   ]
  },
  {
   "cell_type": "code",
   "execution_count": 23,
   "metadata": {
    "collapsed": true
   },
   "outputs": [],
   "source": [
    "class StringJoiner(list):\n",
    "    \n",
    "    def __enter__(self):\n",
    "        return self\n",
    "    \n",
    "    def __exit__(self, type, value, db):\n",
    "        self.result = \"\".join(self)\n",
    "        "
   ]
  },
  {
   "cell_type": "code",
   "execution_count": 25,
   "metadata": {
    "collapsed": false
   },
   "outputs": [
    {
     "name": "stdout",
     "output_type": "stream",
     "text": [
      "unjgZAFwejvMlAw\n"
     ]
    }
   ],
   "source": [
    "import random, string\n",
    "with StringJoiner() as joiner:\n",
    "    for i in range(15):\n",
    "        joiner.append(random.choice(string.ascii_letters))\n",
    "        \n",
    "print(joiner.result)\n",
    "    "
   ]
  },
  {
   "cell_type": "code",
   "execution_count": 34,
   "metadata": {
    "collapsed": false
   },
   "outputs": [],
   "source": [
    "#with the exit inherited from list\n",
    "joiner = ''\n",
    "del joiner\n",
    "class StringJoiner(list):\n",
    "    \n",
    "    def __enter__(self):\n",
    "        return self\n",
    "    \n",
    "    def __exit__(self, type, value, db):\n",
    "        self.result = \"\".join(self)\n",
    "        print(self.result)\n",
    "        "
   ]
  },
  {
   "cell_type": "code",
   "execution_count": 35,
   "metadata": {
    "collapsed": false
   },
   "outputs": [
    {
     "name": "stdout",
     "output_type": "stream",
     "text": [
      "MbtWgundqFVJVel\n",
      "MbtWgundqFVJVel\n"
     ]
    }
   ],
   "source": [
    "import random, string\n",
    "with StringJoiner() as joiner:\n",
    "    for i in range(15):\n",
    "        joiner.append(random.choice(string.ascii_letters))\n",
    "        \n",
    "print(joiner.result)\n",
    "    "
   ]
  },
  {
   "cell_type": "code",
   "execution_count": 36,
   "metadata": {
    "collapsed": false
   },
   "outputs": [
    {
     "data": {
      "text/plain": [
       "['__add__',\n",
       " '__class__',\n",
       " '__contains__',\n",
       " '__delattr__',\n",
       " '__delitem__',\n",
       " '__dir__',\n",
       " '__doc__',\n",
       " '__eq__',\n",
       " '__format__',\n",
       " '__ge__',\n",
       " '__getattribute__',\n",
       " '__getitem__',\n",
       " '__gt__',\n",
       " '__hash__',\n",
       " '__iadd__',\n",
       " '__imul__',\n",
       " '__init__',\n",
       " '__init_subclass__',\n",
       " '__iter__',\n",
       " '__le__',\n",
       " '__len__',\n",
       " '__lt__',\n",
       " '__mul__',\n",
       " '__ne__',\n",
       " '__new__',\n",
       " '__reduce__',\n",
       " '__reduce_ex__',\n",
       " '__repr__',\n",
       " '__reversed__',\n",
       " '__rmul__',\n",
       " '__setattr__',\n",
       " '__setitem__',\n",
       " '__sizeof__',\n",
       " '__str__',\n",
       " '__subclasshook__',\n",
       " 'append',\n",
       " 'clear',\n",
       " 'copy',\n",
       " 'count',\n",
       " 'extend',\n",
       " 'index',\n",
       " 'insert',\n",
       " 'pop',\n",
       " 'remove',\n",
       " 'reverse',\n",
       " 'sort']"
      ]
     },
     "execution_count": 36,
     "metadata": {},
     "output_type": "execute_result"
    }
   ],
   "source": [
    "W = open('','r')"
   ]
  },
  {
   "cell_type": "code",
   "execution_count": 48,
   "metadata": {
    "collapsed": false
   },
   "outputs": [
    {
     "data": {
      "text/plain": [
       "True"
      ]
     },
     "execution_count": 48,
     "metadata": {},
     "output_type": "execute_result"
    }
   ],
   "source": [
    "file.closed"
   ]
  },
  {
   "cell_type": "code",
   "execution_count": 45,
   "metadata": {
    "collapsed": false
   },
   "outputs": [
    {
     "name": "stdout",
     "output_type": "stream",
     "text": [
      "Help on method_descriptor:\n",
      "\n",
      "__exit__(...)\n",
      "\n"
     ]
    }
   ],
   "source": [
    "from _io import TextIOWrapper\n",
    "help(TextIOWrapper.__exit__)"
   ]
  },
  {
   "cell_type": "markdown",
   "metadata": {},
   "source": [
    "# Alternative to method overloading in Python"
   ]
  },
  {
   "cell_type": "code",
<<<<<<< HEAD
   "execution_count": 51,
=======
   "execution_count": 1,
>>>>>>> b829bcb465b0e32104dbe492037b6da0f67e9948
   "metadata": {
    "collapsed": true
   },
   "outputs": [],
   "source": [
    "def default_arguments(x, y, z, a=\"Some String\", b=False):\n",
    "    pass"
   ]
  },
  {
   "cell_type": "code",
<<<<<<< HEAD
   "execution_count": 53,
=======
   "execution_count": 2,
>>>>>>> b829bcb465b0e32104dbe492037b6da0f67e9948
   "metadata": {
    "collapsed": false
   },
   "outputs": [],
   "source": [
    "default_arguments(\"a string\", \"lol\", 8, \"\", True)"
   ]
  },
  {
   "cell_type": "code",
<<<<<<< HEAD
   "execution_count": 54,
=======
   "execution_count": 3,
>>>>>>> b829bcb465b0e32104dbe492037b6da0f67e9948
   "metadata": {
    "collapsed": true
   },
   "outputs": [],
   "source": [
    "default_arguments(\"a string\", \"lol\", 14, b=True)"
   ]
  },
  {
   "cell_type": "code",
<<<<<<< HEAD
   "execution_count": 56,
=======
   "execution_count": 4,
>>>>>>> b829bcb465b0e32104dbe492037b6da0f67e9948
   "metadata": {
    "collapsed": true
   },
   "outputs": [],
   "source": [
    "#changing order of arguments\n",
    "default_arguments(y=1,z=2,x=3,a=\"hi\")"
   ]
  },
  {
   "cell_type": "code",
   "execution_count": 57,
   "metadata": {
    "collapsed": true
   },
   "outputs": [],
   "source": [
    "# the detaulf arguments are evaluated when the function is first interpreted not when called.\n",
    "#example"
   ]
  },
  {
   "cell_type": "code",
   "execution_count": 61,
   "metadata": {
    "collapsed": false
   },
   "outputs": [
    {
     "name": "stdout",
     "output_type": "stream",
     "text": [
      "With an arg: the func is called:\n",
      "8\n",
      "No args, default value when the func was first interpreted in the script: \n",
      "5\n",
      "Current value of the variable: \n",
      "6\n"
     ]
    }
   ],
   "source": [
    "number = 5\n",
    "def funky_function(number=number):\n",
    "    print(number)\n",
    "\n",
    "number = 6\n",
    "print(\"With an arg: the func is called:\")\n",
    "funky_function(8)\n",
    "print(\"No args, default value when the func was first interpreted in the script: \")\n",
    "funky_function()\n",
    "print(\"Current value of the variable: \")\n",
    "print(number)"
   ]
  },
  {
   "cell_type": "code",
   "execution_count": 3,
   "metadata": {
    "collapsed": true
   },
   "outputs": [],
   "source": [
    "# arguments instances of objects like lists\n",
    "def Hello(b=[]):\n",
    "    b.append('a')\n",
    "    return b\n"
   ]
  },
  {
   "cell_type": "code",
   "execution_count": 4,
   "metadata": {
    "collapsed": false
   },
   "outputs": [
    {
     "data": {
      "text/plain": [
       "['a']"
      ]
     },
     "execution_count": 4,
     "metadata": {},
     "output_type": "execute_result"
    }
   ],
   "source": [
    "Hello()"
   ]
  },
  {
   "cell_type": "code",
   "execution_count": 5,
   "metadata": {
    "collapsed": false
   },
   "outputs": [
    {
     "data": {
      "text/plain": [
       "['a', 'a']"
      ]
     },
     "execution_count": 5,
     "metadata": {},
     "output_type": "execute_result"
    }
   ],
   "source": [
    "Hello()"
   ]
  },
  {
   "cell_type": "code",
   "execution_count": 6,
   "metadata": {
    "collapsed": true
   },
   "outputs": [],
   "source": [
    "#Variable argument lists\n",
    "def get_pages(*links):\n",
    "    for link in links:\n",
    "        #download the link using urllib\n",
    "        print(link)\n",
    "        "
   ]
  },
  {
   "cell_type": "code",
   "execution_count": 7,
   "metadata": {
    "collapsed": true
   },
   "outputs": [],
   "source": [
    "get_pages()"
   ]
  },
  {
   "cell_type": "code",
   "execution_count": 8,
   "metadata": {
    "collapsed": false
   },
   "outputs": [
    {
     "name": "stdout",
     "output_type": "stream",
     "text": [
      "http://asdf/com\n"
     ]
    }
   ],
   "source": [
    "get_pages('http://asdf.com')"
   ]
  },
  {
   "cell_type": "code",
   "execution_count": 11,
   "metadata": {
    "collapsed": false
   },
   "outputs": [
    {
     "name": "stdout",
     "output_type": "stream",
     "text": [
      "http://asdf.com\n",
      "https://tlp.world\n"
     ]
    }
   ],
   "source": [
    "get_pages('http://asdf.com','https://tlp.world')"
   ]
  },
  {
   "cell_type": "code",
   "execution_count": 18,
   "metadata": {
    "collapsed": true
   },
   "outputs": [],
   "source": [
    "#Usage of dynamic arguments in python\n",
    "class Options:\n",
    "    default_options = {\n",
    "        'port': 21,\n",
    "        'host': 'localhost',\n",
    "        'username': None,\n",
    "        'password': None,\n",
    "        'debug': False,        \n",
    "    }\n",
    "    def __init__(self, **kwargs):\n",
    "        self.options = dict(Options.default_options)\n",
    "        self.options.update(kwargs)\n",
    "    \n",
    "    def __getitem__(self, key):\n",
    "        return self.options[key]\n",
    "        "
   ]
  },
  {
   "cell_type": "code",
   "execution_count": 19,
   "metadata": {
    "collapsed": false
   },
   "outputs": [],
   "source": [
    "options = Options(username=\"dusty\", password=\"1234\", timeout=0, debug=True)"
   ]
  },
  {
   "cell_type": "code",
   "execution_count": 20,
   "metadata": {
    "collapsed": false
   },
   "outputs": [
    {
     "data": {
      "text/plain": [
       "True"
      ]
     },
     "execution_count": 20,
     "metadata": {},
     "output_type": "execute_result"
    }
   ],
   "source": [
    "options['debug']"
   ]
  },
  {
   "cell_type": "code",
   "execution_count": 21,
   "metadata": {
    "collapsed": false
   },
   "outputs": [
    {
     "data": {
      "text/plain": [
       "0"
      ]
     },
     "execution_count": 21,
     "metadata": {},
     "output_type": "execute_result"
    }
   ],
   "source": [
    "options['timeout']"
   ]
  },
  {
   "cell_type": "code",
   "execution_count": 25,
   "metadata": {
    "collapsed": false
   },
   "outputs": [],
   "source": [
    "#another utility example of keywork arguments\n",
    "import shutil\n",
    "import os.path\n",
    "def augmented_move(target_folder, *filenames, verbose=False, **specific):\n",
    "    '''Move all filenames into the target_folder, allowing\n",
    "    specific treatment of certain files.'''\n",
    "    def print_verbose(message, filename):\n",
    "        '''print the message only if verbose is enabled'''\n",
    "        if verbose:\n",
    "            print(message.format(filename))\n",
    "    for filename in filenames:\n",
    "        target_path = os.path.join(target_folder, filename)\n",
    "        if filename in specific:\n",
    "            if specific[filename] == 'ignore':\n",
    "                print_verbose(\"Ignoring {0}\", filename)\n",
    "            elif specific[filename] == 'copy':\n",
    "                print_verbose(\"Copying {0}\", filename)\n",
    "                shutil.copyfile(filename, target_path)\n",
    "        else:\n",
    "            print_verbose(\"Moving {0}\", filename)\n",
    "            shutil.move(filename, target_path)"
   ]
  },
  {
   "cell_type": "code",
   "execution_count": null,
   "metadata": {
    "collapsed": false
   },
   "outputs": [],
   "source": [
    "augmented_move(\"move_here\", \"one\", \"two\")"
   ]
  },
  {
   "cell_type": "code",
   "execution_count": null,
   "metadata": {
    "collapsed": false
   },
   "outputs": [],
   "source": [
    "augmented_move(\"move_here\", \"seven\", \"eight\", \"nine\", seven=\"copy\", verbose=True, eight=\"ignore\")"
   ]
  },
  {
   "cell_type": "code",
   "execution_count": 30,
   "metadata": {
    "collapsed": true
   },
   "outputs": [],
   "source": [
    "#functions are objects:\n",
    "def my_function():\n",
    "    print(\"my silly func\")\n",
    "my_function.description = \"Just a func.\"\n",
    "\n",
    "def my_other_function():\n",
    "    print(\"Another sillier func\")\n",
    "my_other_function.description = \"Just a sillier function.\""
   ]
  },
  {
   "cell_type": "code",
   "execution_count": 31,
   "metadata": {
    "collapsed": true
   },
   "outputs": [],
   "source": [
    "def another_function(function):\n",
    "    print(\"The description:\", end=\" \")\n",
    "    print(function.description)\n",
    "    print(\"The name:\", end=\" \")\n",
    "    print(function.__name__)\n",
    "    print(\"The class:\", end=\" \")\n",
    "    print(function.__class__)\n",
    "    print(\"Now I'll call the function passed in\")\n",
    "    function()\n"
   ]
  },
  {
   "cell_type": "code",
   "execution_count": 32,
   "metadata": {
    "collapsed": false
   },
   "outputs": [
    {
     "name": "stdout",
     "output_type": "stream",
     "text": [
      "The description: Just a func.\n",
      "The name: my_function\n",
      "The class: <class 'function'>\n",
      "Now I'll call the function passed in\n",
      "my silly func\n",
      "The description: Just a sillier function.\n",
      "The name: my_other_function\n",
      "The class: <class 'function'>\n",
      "Now I'll call the function passed in\n",
      "Another sillier func\n"
     ]
    }
   ],
   "source": [
    "another_function(my_function)\n",
    "another_function(my_other_function)"
   ]
  },
  {
   "cell_type": "code",
<<<<<<< HEAD
   "execution_count": 33,
=======
   "execution_count": 15,
>>>>>>> b829bcb465b0e32104dbe492037b6da0f67e9948
   "metadata": {
    "collapsed": true
   },
   "outputs": [],
   "source": [
    "import datetime\n",
    "import time"
   ]
  },
  {
   "cell_type": "code",
<<<<<<< HEAD
   "execution_count": 40,
=======
   "execution_count": 16,
>>>>>>> b829bcb465b0e32104dbe492037b6da0f67e9948
   "metadata": {
    "collapsed": true
   },
   "outputs": [],
   "source": [
    "class TimeEvent:\n",
    "    def __init__(self, endtime, callback):\n",
    "        self.endtime = endtime\n",
    "        self.callback = callback\n",
    "    \n",
    "    def ready(self):\n",
    "        return self.endtime <= datetime.datetime.now()\n",
    "    \n",
    "class Timer:\n",
    "    def __init__(self):\n",
    "        self.events = []\n",
    "    \n",
    "    def call_after(self, delay, callback):\n",
    "        end_time = datetime.datetime.now() + datetime.timedelta(seconds=delay)\n",
    "        self.events.append(TimeEvent(end_time, callback))\n",
    "    \n",
    "    def run(self):\n",
    "        while True:\n",
    "            ready_events = (e for e in self.events if e.ready())\n",
    "            for event in ready_events:\n",
    "                event.callback(self)\n",
    "                self.events.remove(event)\n",
    "            time.sleep(0.5)\n",
    "            "
   ]
  },
  {
   "cell_type": "code",
<<<<<<< HEAD
   "execution_count": 45,
=======
   "execution_count": 17,
>>>>>>> b829bcb465b0e32104dbe492037b6da0f67e9948
   "metadata": {
    "collapsed": true
   },
   "outputs": [],
   "source": [
    "#Here's a set of callbacks that test the timer:\n",
    "def format_time(message, *args):\n",
    "    now = datetime.datetime.now().strftime(\"%I:%M:%S\")\n",
    "    print(message.format(*args, now=now))\n",
    "\n",
    "def one(timer):\n",
    "    format_time(\"{now}: Called one\")\n",
    "\n",
    "def two(timer):\n",
    "    format_time(\"{now}: Called two\")\n",
    "    \n",
    "def three(timer):\n",
    "    format_time(\"{now}: Called three\")\n",
    "\n",
    "class Repeater:\n",
    "    def __init__(self):\n",
    "        self.count = 0\n",
    "    def repeater(self, timer):\n",
    "        format_time(\"{now}: repeat {0}\", self.count)\n",
    "        self.count += 1\n",
    "        timer.call_after(5, self.repeater)\n",
    "    \n",
    "    "
   ]
  },
  {
   "cell_type": "code",
<<<<<<< HEAD
   "execution_count": null,
=======
   "execution_count": 18,
>>>>>>> b829bcb465b0e32104dbe492037b6da0f67e9948
   "metadata": {
    "collapsed": false
   },
   "outputs": [
    {
     "name": "stdout",
     "output_type": "stream",
     "text": [
<<<<<<< HEAD
      "05:26:08: Starting\n",
      "05:26:09: Called one\n",
      "05:26:10: Called one\n",
      "05:26:11: Called two\n",
      "05:26:11: Called three\n",
      "05:26:12: Called two\n",
      "05:26:13: repeat 0\n",
      "05:26:14: Called three\n",
      "05:26:18: repeat 1\n",
      "05:26:23: repeat 2\n",
      "05:26:29: repeat 3\n",
      "05:26:34: repeat 4\n",
      "05:26:39: repeat 5\n",
      "05:26:44: repeat 6\n",
      "05:26:49: repeat 7\n",
      "05:26:54: repeat 8\n",
      "05:26:59: repeat 9\n",
      "05:27:04: repeat 10\n",
      "05:27:10: repeat 11\n",
      "05:27:15: repeat 12\n",
      "05:27:20: repeat 13\n"
=======
      "01:31:31: Starting\n",
      "01:31:32: Called one\n",
      "01:31:33: Called one\n",
      "01:31:34: Called two\n",
      "01:31:34: Called three\n",
      "01:31:35: Called two\n",
      "01:31:36: repeat 0\n",
      "01:31:37: Called three\n"
     ]
    },
    {
     "ename": "KeyboardInterrupt",
     "evalue": "",
     "output_type": "error",
     "traceback": [
      "\u001b[0;31m---------------------------------------------------------------------------\u001b[0m",
      "\u001b[0;31mKeyboardInterrupt\u001b[0m                         Traceback (most recent call last)",
      "\u001b[0;32m<ipython-input-18-8a11738b7015>\u001b[0m in \u001b[0;36m<module>\u001b[0;34m()\u001b[0m\n\u001b[1;32m      9\u001b[0m \u001b[0mtimer\u001b[0m\u001b[1;33m.\u001b[0m\u001b[0mcall_after\u001b[0m\u001b[1;33m(\u001b[0m\u001b[1;36m5\u001b[0m\u001b[1;33m,\u001b[0m \u001b[0mrepeater\u001b[0m\u001b[1;33m.\u001b[0m\u001b[0mrepeater\u001b[0m\u001b[1;33m)\u001b[0m\u001b[1;33m\u001b[0m\u001b[0m\n\u001b[1;32m     10\u001b[0m \u001b[0mformat_time\u001b[0m\u001b[1;33m(\u001b[0m\u001b[1;34m\"{now}: Starting\"\u001b[0m\u001b[1;33m)\u001b[0m\u001b[1;33m\u001b[0m\u001b[0m\n\u001b[0;32m---> 11\u001b[0;31m \u001b[0mtimer\u001b[0m\u001b[1;33m.\u001b[0m\u001b[0mrun\u001b[0m\u001b[1;33m(\u001b[0m\u001b[1;33m)\u001b[0m\u001b[1;33m\u001b[0m\u001b[0m\n\u001b[0m",
      "\u001b[0;32m<ipython-input-16-ab7c379667bf>\u001b[0m in \u001b[0;36mrun\u001b[0;34m(self)\u001b[0m\n\u001b[1;32m     21\u001b[0m                 \u001b[0mevent\u001b[0m\u001b[1;33m.\u001b[0m\u001b[0mcallback\u001b[0m\u001b[1;33m(\u001b[0m\u001b[0mself\u001b[0m\u001b[1;33m)\u001b[0m\u001b[1;33m\u001b[0m\u001b[0m\n\u001b[1;32m     22\u001b[0m                 \u001b[0mself\u001b[0m\u001b[1;33m.\u001b[0m\u001b[0mevents\u001b[0m\u001b[1;33m.\u001b[0m\u001b[0mremove\u001b[0m\u001b[1;33m(\u001b[0m\u001b[0mevent\u001b[0m\u001b[1;33m)\u001b[0m\u001b[1;33m\u001b[0m\u001b[0m\n\u001b[0;32m---> 23\u001b[0;31m             \u001b[0mtime\u001b[0m\u001b[1;33m.\u001b[0m\u001b[0msleep\u001b[0m\u001b[1;33m(\u001b[0m\u001b[1;36m0.5\u001b[0m\u001b[1;33m)\u001b[0m\u001b[1;33m\u001b[0m\u001b[0m\n\u001b[0m\u001b[1;32m     24\u001b[0m \u001b[1;33m\u001b[0m\u001b[0m\n",
      "\u001b[0;31mKeyboardInterrupt\u001b[0m: "
>>>>>>> b829bcb465b0e32104dbe492037b6da0f67e9948
     ]
    }
   ],
   "source": [
    "timer = Timer()\n",
    "timer.call_after(1, one)\n",
    "timer.call_after(2, one)\n",
    "timer.call_after(2, two)\n",
    "timer.call_after(4, two)\n",
    "timer.call_after(3, three)\n",
    "timer.call_after(6, three)\n",
    "repeater = Repeater()\n",
    "timer.call_after(5, repeater.repeater)\n",
    "format_time(\"{now}: Starting\")\n",
    "timer.run()"
   ]
  },
  {
   "cell_type": "code",
<<<<<<< HEAD
   "execution_count": 1,
=======
   "execution_count": 19,
>>>>>>> b829bcb465b0e32104dbe492037b6da0f67e9948
   "metadata": {
    "collapsed": true
   },
   "outputs": [],
   "source": [
    "# using functions as attributes\n",
    "class A:\n",
    "    def print(self):\n",
    "        print(\"My class is A\")\n",
    "\n",
    "def fake_print():\n",
    "    print(\"my klas is a. Made in China\")"
   ]
  },
  {
   "cell_type": "code",
<<<<<<< HEAD
   "execution_count": 2,
=======
   "execution_count": 20,
>>>>>>> b829bcb465b0e32104dbe492037b6da0f67e9948
   "metadata": {
    "collapsed": false
   },
   "outputs": [
    {
     "name": "stdout",
     "output_type": "stream",
     "text": [
      "My class is A\n",
      "my klas is a. Made in China\n"
     ]
    }
   ],
   "source": [
    "a = A()\n",
    "a.print()\n",
    "a.print = fake_print\n",
    "a.print()"
   ]
  },
  {
   "cell_type": "code",
<<<<<<< HEAD
   "execution_count": null,
=======
   "execution_count": 21,
>>>>>>> b829bcb465b0e32104dbe492037b6da0f67e9948
   "metadata": {
    "collapsed": true
   },
   "outputs": [],
   "source": [
    "# monkey-patching  is replacing a method to \n",
    "# a class. modiying all objects instances of that class during runtime.\n",
    "# WOW."
   ]
<<<<<<< HEAD
=======
  },
  {
   "cell_type": "code",
   "execution_count": 22,
   "metadata": {
    "collapsed": true
   },
   "outputs": [],
   "source": [
    "# callable objects\n",
    "class Repeater:\n",
    "    def __init__(self):\n",
    "        self.count = 0\n",
    "        \n",
    "    def __call__(self, timer):\n",
    "        format_time(\"{now}: repeat {0}\", self.count)\n",
    "        self.count += 1\n",
    "        timer.call_after(5, self)\n",
    "        "
   ]
  },
  {
   "cell_type": "code",
   "execution_count": 23,
   "metadata": {
    "collapsed": false
   },
   "outputs": [
    {
     "name": "stdout",
     "output_type": "stream",
     "text": [
      "01:31:51: Starting\n",
      "01:31:56: repeat 0\n",
      "01:32:01: repeat 1\n",
      "01:32:06: repeat 2\n",
      "01:32:11: repeat 3\n",
      "01:32:16: repeat 4\n"
     ]
    },
    {
     "ename": "KeyboardInterrupt",
     "evalue": "",
     "output_type": "error",
     "traceback": [
      "\u001b[0;31m---------------------------------------------------------------------------\u001b[0m",
      "\u001b[0;31mKeyboardInterrupt\u001b[0m                         Traceback (most recent call last)",
      "\u001b[0;32m<ipython-input-23-492f182dfc83>\u001b[0m in \u001b[0;36m<module>\u001b[0;34m()\u001b[0m\n\u001b[1;32m      2\u001b[0m \u001b[0mtimer\u001b[0m\u001b[1;33m.\u001b[0m\u001b[0mcall_after\u001b[0m\u001b[1;33m(\u001b[0m\u001b[1;36m5\u001b[0m\u001b[1;33m,\u001b[0m \u001b[0mRepeater\u001b[0m\u001b[1;33m(\u001b[0m\u001b[1;33m)\u001b[0m\u001b[1;33m)\u001b[0m\u001b[1;33m\u001b[0m\u001b[0m\n\u001b[1;32m      3\u001b[0m \u001b[0mformat_time\u001b[0m\u001b[1;33m(\u001b[0m\u001b[1;34m\"{now}: Starting\"\u001b[0m\u001b[1;33m)\u001b[0m\u001b[1;33m\u001b[0m\u001b[0m\n\u001b[0;32m----> 4\u001b[0;31m \u001b[0mtimer\u001b[0m\u001b[1;33m.\u001b[0m\u001b[0mrun\u001b[0m\u001b[1;33m(\u001b[0m\u001b[1;33m)\u001b[0m\u001b[1;33m\u001b[0m\u001b[0m\n\u001b[0m",
      "\u001b[0;32m<ipython-input-16-ab7c379667bf>\u001b[0m in \u001b[0;36mrun\u001b[0;34m(self)\u001b[0m\n\u001b[1;32m     21\u001b[0m                 \u001b[0mevent\u001b[0m\u001b[1;33m.\u001b[0m\u001b[0mcallback\u001b[0m\u001b[1;33m(\u001b[0m\u001b[0mself\u001b[0m\u001b[1;33m)\u001b[0m\u001b[1;33m\u001b[0m\u001b[0m\n\u001b[1;32m     22\u001b[0m                 \u001b[0mself\u001b[0m\u001b[1;33m.\u001b[0m\u001b[0mevents\u001b[0m\u001b[1;33m.\u001b[0m\u001b[0mremove\u001b[0m\u001b[1;33m(\u001b[0m\u001b[0mevent\u001b[0m\u001b[1;33m)\u001b[0m\u001b[1;33m\u001b[0m\u001b[0m\n\u001b[0;32m---> 23\u001b[0;31m             \u001b[0mtime\u001b[0m\u001b[1;33m.\u001b[0m\u001b[0msleep\u001b[0m\u001b[1;33m(\u001b[0m\u001b[1;36m0.5\u001b[0m\u001b[1;33m)\u001b[0m\u001b[1;33m\u001b[0m\u001b[0m\n\u001b[0m\u001b[1;32m     24\u001b[0m \u001b[1;33m\u001b[0m\u001b[0m\n",
      "\u001b[0;31mKeyboardInterrupt\u001b[0m: "
     ]
    }
   ],
   "source": [
    "timer = Timer()\n",
    "# passing the Object as a callable instead of the previous example of object.function\n",
    "timer.call_after(5, Repeater())\n",
    "format_time(\"{now}: Starting\")\n",
    "timer.run()"
   ]
>>>>>>> b829bcb465b0e32104dbe492037b6da0f67e9948
  }
 ],
 "metadata": {
  "kernelspec": {
   "display_name": "Python 3",
   "language": "python",
   "name": "python3"
  },
  "language_info": {
   "codemirror_mode": {
    "name": "ipython",
    "version": 3
   },
   "file_extension": ".py",
   "mimetype": "text/x-python",
   "name": "python",
   "nbconvert_exporter": "python",
   "pygments_lexer": "ipython3",
   "version": "3.6.0"
  }
 },
 "nbformat": 4,
 "nbformat_minor": 2
}
