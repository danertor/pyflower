{
 "cells": [
  {
   "cell_type": "markdown",
   "metadata": {},
   "source": [
    "# coroutines"
   ]
  },
  {
   "cell_type": "code",
   "execution_count": 2,
   "metadata": {
    "collapsed": true
   },
   "outputs": [],
   "source": [
    "#example of coroutine\n",
    "def tally():\n",
    "    score = 0\n",
    "    while True:\n",
    "        increment = yield score\n",
    "        score +=  increment\n",
    "        "
   ]
  },
  {
   "cell_type": "code",
   "execution_count": 3,
   "metadata": {
    "collapsed": false
   },
   "outputs": [
    {
     "data": {
      "text/plain": [
       "0"
      ]
     },
     "execution_count": 3,
     "metadata": {},
     "output_type": "execute_result"
    }
   ],
   "source": [
    "white_sox = tally()\n",
    "blue_jays = tally()\n",
    "next(white_sox)\n",
    "next(blue_jays)"
   ]
  },
  {
   "cell_type": "code",
   "execution_count": 4,
   "metadata": {
    "collapsed": false
   },
   "outputs": [
    {
     "data": {
      "text/plain": [
       "2"
      ]
     },
     "execution_count": 4,
     "metadata": {},
     "output_type": "execute_result"
    }
   ],
   "source": [
    "white_sox.send(2)"
   ]
  },
  {
   "cell_type": "code",
   "execution_count": 5,
   "metadata": {
    "collapsed": false
   },
   "outputs": [
    {
     "data": {
      "text/plain": [
       "3"
      ]
     },
     "execution_count": 5,
     "metadata": {},
     "output_type": "execute_result"
    }
   ],
   "source": [
    "blue_jays.send(3)"
   ]
  },
  {
   "cell_type": "code",
   "execution_count": 14,
   "metadata": {
    "collapsed": false
   },
   "outputs": [
    {
     "data": {
      "text/plain": [
       "6"
      ]
     },
     "execution_count": 14,
     "metadata": {},
     "output_type": "execute_result"
    }
   ],
   "source": [
    "white_sox.send(4)"
   ]
  },
  {
   "cell_type": "code",
   "execution_count": 15,
   "metadata": {
    "collapsed": false
   },
   "outputs": [
    {
     "data": {
      "text/plain": [
       "4"
      ]
     },
     "execution_count": 15,
     "metadata": {},
     "output_type": "execute_result"
    }
   ],
   "source": [
    "blue_jays.send(1)"
   ]
  },
  {
   "cell_type": "code",
   "execution_count": 16,
   "metadata": {
    "collapsed": false
   },
   "outputs": [],
   "source": [
    "#the function send of the generator object tally assigns the parameter to the left side of the yield statement in the generator.\n",
    "#It means that the send() function will repalce the yield statement to the parameter passed to send and continues \n",
    "# executing the code until another yield is found that in that case rteturns a new value. then it stops as usual.\n",
    "\n"
   ]
  },
  {
   "cell_type": "code",
   "execution_count": 9,
   "metadata": {
    "collapsed": false
   },
   "outputs": [
    {
     "name": "stderr",
     "output_type": "stream",
     "text": [
      "C:\\Users\\XI316270\\Applications\\Anaconda3\\lib\\site-packages\\ipykernel\\__main__.py:69: DeprecationWarning: generator 'get_serials' raised StopIteration\n"
     ]
    }
   ],
   "source": [
    "# an example where the coroutines is usefull\n",
    "############## IMPORTANT ###################\n",
    "# this code is not exactly like in the book!\n",
    "# THE BOOK USES PYTHON 3.4 CO ROUTINES SYNTAX\n",
    "# THAT DOES NOT WORK IN PYTHON 3.6\n",
    "# This code has been modified for python 3.6\n",
    "############################################\n",
    "\"\"\"\n",
    "See resources:\n",
    "    video:https://www.youtube.com/watch?v=idLtMISlgy8&index=52&list=WL\n",
    "    code from video: https://github.com/ajdavis/coroutines-demo\n",
    " \n",
    "    https://snarky.ca/how-the-heck-does-async-await-work-in-python-3-5/\n",
    "    for coroutines in python 3.6.\n",
    "    \n",
    "    https://pymotw.com/3/asyncio/coroutines.html#starting-a-coroutine\n",
    "    \n",
    "\"\"\"\n",
    "## original code:\n",
    "    \n",
    "import re\n",
    "import asyncio\n",
    "from inspect import iscoroutine, iscoroutinefunction\n",
    "\n",
    "file = \"\"\"unrelated log messages\n",
    "sd 0:0:0:0 Attached Disk Drive \n",
    "unrelated log messages\n",
    "sd 0:0:0:0 (SERIAL=ZZ12345) \n",
    "unrelated log messages\n",
    "sd 0:0:0:0 [sda] Options \n",
    "unrelated log messages\n",
    "XFS ERROR [sda] \n",
    "unrelated log messages\n",
    "sd 2:0:0:1 Attached Disk Drive \n",
    "unrelated log messages\n",
    "sd 2:0:0:1 (SERIAL=ZZ67890) \n",
    "unrelated log messages\n",
    "sd 2:0:0:1 [sdb] Options \n",
    "unrelated log messages\n",
    "sd 3:0:1:8 Attached Disk Drive \n",
    "unrelated log messages\n",
    "sd 3:0:1:8 (SERIAL=WW11111) \n",
    "unrelated log messages\n",
    "sd 3:0:1:8 [sdc] Options \n",
    "unrelated log messages\n",
    "XFS ERROR [sdc] \n",
    "unrelated log messages\"\"\".split('\\n')\n",
    "\n",
    "def match_regex(data, regex):\n",
    "    for line in reversed(data):\n",
    "        match = re.match(regex, line)\n",
    "        if match:\n",
    "            print('Antes del yield', regex)\n",
    "            regex = yield match.groupd()[0]\n",
    "            print('Despues del yield', regex)\n",
    "\n",
    "def get_serials(data):\n",
    "    ERROR_RE = 'XPS ERROR (\\[sd[a-z]\\])'\n",
    "    matcher = match_regex(data, ERROR_RE)\n",
    "    device = next(matcher)\n",
    "    while True:\n",
    "        bus = matcher.send(\n",
    "             '(sd \\S+) {}.*'.format(re.escape(device)))\n",
    "        serial = matcher.send('{} \\(SERIAL=([^)]*)\\)'.format(bus))\n",
    "        yield serial\n",
    "        device = matcher.send(ERROR_RE)\n",
    "        \n",
    "\n",
    "for serial_number in get_serials(file):\n",
    "    print(serial_number)\n",
    "    "
   ]
  },
  {
   "cell_type": "code",
   "execution_count": 1,
   "metadata": {
    "collapsed": false
   },
   "outputs": [
    {
     "name": "stdout",
     "output_type": "stream",
     "text": [
      "regex [XFS ERROR (\\[sd[a-z]\\])] line[unrelated log messages]\n",
      "regex [XFS ERROR (\\[sd[a-z]\\])] line[XFS ERROR [sdc] ]\n",
      "line matched!\n",
      "regex [(sd \\S+) \\[sdc\\].*] line[unrelated log messages]\n",
      "regex [(sd \\S+) \\[sdc\\].*] line[sd 3:0:1:8 [sdc] Options ]\n",
      "line matched!\n",
      "regex [sd 3:0:1:8 \\(SERIAL=([^)]*)\\)] line[unrelated log messages]\n",
      "regex [sd 3:0:1:8 \\(SERIAL=([^)]*)\\)] line[sd 3:0:1:8 (SERIAL=WW11111) ]\n",
      "line matched!\n",
      "WW11111\n",
      "regex [XFS ERROR (\\[sd[a-z]\\])] line[unrelated log messages]\n",
      "regex [XFS ERROR (\\[sd[a-z]\\])] line[sd 3:0:1:8 Attached Disk Drive ]\n",
      "regex [XFS ERROR (\\[sd[a-z]\\])] line[unrelated log messages]\n",
      "regex [XFS ERROR (\\[sd[a-z]\\])] line[sd 2:0:0:1 [sdb] Options ]\n",
      "regex [XFS ERROR (\\[sd[a-z]\\])] line[unrelated log messages]\n",
      "regex [XFS ERROR (\\[sd[a-z]\\])] line[sd 2:0:0:1 (SERIAL=ZZ67890) ]\n",
      "regex [XFS ERROR (\\[sd[a-z]\\])] line[unrelated log messages]\n",
      "regex [XFS ERROR (\\[sd[a-z]\\])] line[sd 2:0:0:1 Attached Disk Drive ]\n",
      "regex [XFS ERROR (\\[sd[a-z]\\])] line[unrelated log messages]\n",
      "regex [XFS ERROR (\\[sd[a-z]\\])] line[XFS ERROR [sda] ]\n",
      "line matched!\n",
      "regex [(sd \\S+) \\[sda\\].*] line[unrelated log messages]\n",
      "regex [(sd \\S+) \\[sda\\].*] line[sd 0:0:0:0 [sda] Options ]\n",
      "line matched!\n",
      "regex [sd 0:0:0:0 \\(SERIAL=([^)]*)\\)] line[unrelated log messages]\n",
      "regex [sd 0:0:0:0 \\(SERIAL=([^)]*)\\)] line[sd 0:0:0:0 (SERIAL=ZZ12345) ]\n",
      "line matched!\n",
      "ZZ12345\n",
      "regex [XFS ERROR (\\[sd[a-z]\\])] line[unrelated log messages]\n",
      "regex [XFS ERROR (\\[sd[a-z]\\])] line[sd 0:0:0:0 Attached Disk Drive ]\n",
      "regex [XFS ERROR (\\[sd[a-z]\\])] line[unrelated log messages]\n"
     ]
    }
   ],
   "source": [
    "# an example where the coroutines is usefull\n",
    "############## IMPORTANT ###################\n",
    "# this code is not exactly like in the book!\n",
    "# THE BOOK USES PYTHON 3.4 CO ROUTINES SYNTAX\n",
    "# THAT DOES NOT WORK IN PYTHON 3.6\n",
    "# This code has been modified for python 3.6\n",
    "############################################\n",
    "\"\"\"\n",
    "See resources:\n",
    "    \n",
    "    #read the official PEP that proposed this crap\n",
    "    # they recommend use the try except for stopIterator among other things.\n",
    "    # with the try except this code below works in Pyhon 3.6 !!!!!!!!!!!!!!!!!!!!!!!!!!!!!!!!\n",
    "    https://www.python.org/dev/peps/pep-0479/\n",
    "\n",
    "    video:https://www.youtube.com/watch?v=idLtMISlgy8&index=52&list=WL\n",
    "    code from video: https://github.com/ajdavis/coroutines-demo\n",
    " \n",
    "    https://snarky.ca/how-the-heck-does-async-await-work-in-python-3-5/\n",
    "    for coroutines in python 3.6.\n",
    "    \n",
    "    https://pymotw.com/3/asyncio/coroutines.html#starting-a-coroutine\n",
    "\"\"\"\n",
    "    \n",
    "file = \"\"\"unrelated log messages\n",
    "sd 0:0:0:0 Attached Disk Drive \n",
    "unrelated log messages\n",
    "sd 0:0:0:0 (SERIAL=ZZ12345) \n",
    "unrelated log messages\n",
    "sd 0:0:0:0 [sda] Options \n",
    "unrelated log messages\n",
    "XFS ERROR [sda] \n",
    "unrelated log messages\n",
    "sd 2:0:0:1 Attached Disk Drive \n",
    "unrelated log messages\n",
    "sd 2:0:0:1 (SERIAL=ZZ67890) \n",
    "unrelated log messages\n",
    "sd 2:0:0:1 [sdb] Options \n",
    "unrelated log messages\n",
    "sd 3:0:1:8 Attached Disk Drive \n",
    "unrelated log messages\n",
    "sd 3:0:1:8 (SERIAL=WW11111) \n",
    "unrelated log messages\n",
    "sd 3:0:1:8 [sdc] Options \n",
    "unrelated log messages\n",
    "XFS ERROR [sdc] \n",
    "unrelated log messages\"\"\".split('\\n')\n",
    "\n",
    "import re\n",
    "\n",
    "def match_regex(data, regex):\n",
    "    for line in reversed(data):\n",
    "        print('regex [{}] line[{}]'.format(regex, line))\n",
    "        match = re.match(regex, line)\n",
    "        if match:\n",
    "            print('line matched!')\n",
    "            regex = yield match.groups()[0]\n",
    "\n",
    "def get_serials(data):\n",
    "    try:    \n",
    "        ERROR_RE = 'XFS ERROR (\\[sd[a-z]\\])'\n",
    "        matcher = match_regex(data, ERROR_RE)\n",
    "        device = next(matcher)\n",
    "        while True:\n",
    "            bus = matcher.send('(sd \\S+) {}.*'.format(re.escape(device)))\n",
    "            serial = matcher.send('{} \\(SERIAL=([^)]*)\\)'.format(bus)) \n",
    "            yield serial\n",
    "            device = matcher.send(ERROR_RE)\n",
    "    except StopIteration:\n",
    "        return\n",
    "\n",
    "\n",
    "\n",
    "for serial_number in get_serials(file):\n",
    "    print(serial_number)\n",
    "    "
   ]
  },
  {
   "cell_type": "code",
   "execution_count": 1,
   "metadata": {
    "collapsed": false
   },
   "outputs": [
    {
     "name": "stdout",
     "output_type": "stream",
     "text": [
      "in outer\n",
      "waiting for result1\n",
      "in phase1\n",
      "waiting for result2\n",
      "in phase2\n",
      "return value: ('result1', 'result2 derived from result1')\n"
     ]
    }
   ],
   "source": [
    "# testing code from the internet\n",
    "# testing code from https://pymotw.com/3/asyncio/coroutines.html#starting-a-coroutine\n",
    "\n",
    "import asyncio\n",
    "\n",
    "\n",
    "async def outer():\n",
    "    print('in outer')\n",
    "    print('waiting for result1')\n",
    "    result1 = await phase1()\n",
    "    print('waiting for result2')\n",
    "    result2 = await phase2(result1)\n",
    "    return (result1, result2)\n",
    "\n",
    "\n",
    "async def phase1():\n",
    "    print('in phase1')\n",
    "    return 'result1'\n",
    "\n",
    "\n",
    "async def phase2(arg):\n",
    "    print('in phase2')\n",
    "    return 'result2 derived from {}'.format(arg)\n",
    "\n",
    "\n",
    "event_loop = asyncio.get_event_loop()\n",
    "try:\n",
    "    return_value = event_loop.run_until_complete(outer())\n",
    "    print('return value: {!r}'.format(return_value))\n",
    "finally:\n",
    "    event_loop.close()"
   ]
  },
  {
   "cell_type": "code",
   "execution_count": 1,
   "metadata": {
    "collapsed": false
   },
   "outputs": [
    {
     "name": "stdout",
     "output_type": "stream",
     "text": [
      "in outer\n",
      "waiting for result1\n",
      "in phase1\n",
      "waiting for result2\n",
      "in phase2\n",
      "return value: ('result1', 'result2 derived from result1')\n"
     ]
    }
   ],
   "source": [
    "# testing above source from Internet, but this time using generator\n",
    "try:\n",
    "    del event_loop\n",
    "    del return_value\n",
    "except NameError:\n",
    "    pass\n",
    "    \n",
    "import asyncio\n",
    "\n",
    "\n",
    "@asyncio.coroutine\n",
    "def outer():\n",
    "    print('in outer')\n",
    "    print('waiting for result1')\n",
    "    result1 = yield from phase1()\n",
    "    print('waiting for result2')\n",
    "    result2 = yield from phase2(result1)\n",
    "    return (result1, result2)\n",
    "\n",
    "\n",
    "@asyncio.coroutine\n",
    "def phase1():\n",
    "    print('in phase1')\n",
    "    return 'result1'\n",
    "\n",
    "\n",
    "@asyncio.coroutine\n",
    "def phase2(arg):\n",
    "    print('in phase2')\n",
    "    return 'result2 derived from {}'.format(arg)\n",
    "\n",
    "\n",
    "event_loop = asyncio.get_event_loop()\n",
    "try:\n",
    "    return_value = event_loop.run_until_complete(outer())\n",
    "    print('return value: {!r}'.format(return_value))\n",
    "finally:\n",
    "    event_loop.close()\n"
   ]
  },
  {
   "cell_type": "code",
   "execution_count": null,
   "metadata": {
    "collapsed": true
   },
   "outputs": [],
   "source": []
  }
 ],
 "metadata": {
  "kernelspec": {
   "display_name": "Python 3",
   "language": "python",
   "name": "python3"
  },
  "language_info": {
   "codemirror_mode": {
    "name": "ipython",
    "version": 3
   },
   "file_extension": ".py",
   "mimetype": "text/x-python",
   "name": "python",
   "nbconvert_exporter": "python",
   "pygments_lexer": "ipython3",
   "version": "3.6.0"
  }
 },
 "nbformat": 4,
 "nbformat_minor": 2
}
