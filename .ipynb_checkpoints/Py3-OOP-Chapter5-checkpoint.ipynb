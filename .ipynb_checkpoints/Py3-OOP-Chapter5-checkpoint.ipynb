{
 "cells": [
  {
   "cell_type": "code",
   "execution_count": 1,
   "metadata": {
    "collapsed": true
   },
   "outputs": [],
   "source": [
    "class Color:\n",
    "    def __init__(self, rgb_value, name):\n",
    "        self.rgb_value = rgb_value\n",
    "        self._name = name\n",
    "        \n",
    "    def _set_name(self, name):\n",
    "        if not name:\n",
    "            raise Exception(\"Invalid name.\")\n",
    "        self._name = name\n",
    "    \n",
    "    def _get_name(self):\n",
    "        return self._name\n",
    "    \n",
    "    def _del_name(self):\n",
    "        self._name = \"\"\n",
    "        \n",
    "    name = property(_get_name, _set_name, \n",
    "           _del_name, \"This is a docstring for documentation.\")\n",
    "    "
   ]
  },
  {
   "cell_type": "code",
   "execution_count": 2,
   "metadata": {
    "collapsed": true
   },
   "outputs": [],
   "source": [
    "c = Color(\"#0000ff\",\"bright red\")"
   ]
  },
  {
   "cell_type": "code",
   "execution_count": 3,
   "metadata": {
    "collapsed": false
   },
   "outputs": [
    {
     "name": "stdout",
     "output_type": "stream",
     "text": [
      "bright red\n"
     ]
    }
   ],
   "source": [
    "print(c.name)"
   ]
  },
  {
   "cell_type": "code",
   "execution_count": 4,
   "metadata": {
    "collapsed": true
   },
   "outputs": [],
   "source": [
    "c.name = \"red\""
   ]
  },
  {
   "cell_type": "code",
   "execution_count": 5,
   "metadata": {
    "collapsed": false
   },
   "outputs": [
    {
     "name": "stdout",
     "output_type": "stream",
     "text": [
      "red\n"
     ]
    }
   ],
   "source": [
    "print(c.name)"
   ]
  },
  {
   "cell_type": "code",
   "execution_count": 6,
   "metadata": {
    "collapsed": false,
    "scrolled": false
   },
   "outputs": [
    {
     "ename": "Exception",
     "evalue": "Invalid name.",
     "output_type": "error",
     "traceback": [
      "\u001b[0;31m---------------------------------------------------------------------------\u001b[0m",
      "\u001b[0;31mException\u001b[0m                                 Traceback (most recent call last)",
      "\u001b[0;32m<ipython-input-6-dacd76f6aab4>\u001b[0m in \u001b[0;36m<module>\u001b[0;34m()\u001b[0m\n\u001b[0;32m----> 1\u001b[0;31m \u001b[0mc\u001b[0m\u001b[1;33m.\u001b[0m\u001b[0mname\u001b[0m \u001b[1;33m=\u001b[0m \u001b[1;34m\"\"\u001b[0m\u001b[1;33m\u001b[0m\u001b[0m\n\u001b[0m",
      "\u001b[0;32m<ipython-input-1-d8bd39fa172f>\u001b[0m in \u001b[0;36m_set_name\u001b[0;34m(self, name)\u001b[0m\n\u001b[1;32m      6\u001b[0m     \u001b[1;32mdef\u001b[0m \u001b[0m_set_name\u001b[0m\u001b[1;33m(\u001b[0m\u001b[0mself\u001b[0m\u001b[1;33m,\u001b[0m \u001b[0mname\u001b[0m\u001b[1;33m)\u001b[0m\u001b[1;33m:\u001b[0m\u001b[1;33m\u001b[0m\u001b[0m\n\u001b[1;32m      7\u001b[0m         \u001b[1;32mif\u001b[0m \u001b[1;32mnot\u001b[0m \u001b[0mname\u001b[0m\u001b[1;33m:\u001b[0m\u001b[1;33m\u001b[0m\u001b[0m\n\u001b[0;32m----> 8\u001b[0;31m             \u001b[1;32mraise\u001b[0m \u001b[0mException\u001b[0m\u001b[1;33m(\u001b[0m\u001b[1;34m\"Invalid name.\"\u001b[0m\u001b[1;33m)\u001b[0m\u001b[1;33m\u001b[0m\u001b[0m\n\u001b[0m\u001b[1;32m      9\u001b[0m         \u001b[0mself\u001b[0m\u001b[1;33m.\u001b[0m\u001b[0m_name\u001b[0m \u001b[1;33m=\u001b[0m \u001b[0mname\u001b[0m\u001b[1;33m\u001b[0m\u001b[0m\n\u001b[1;32m     10\u001b[0m \u001b[1;33m\u001b[0m\u001b[0m\n",
      "\u001b[0;31mException\u001b[0m: Invalid name."
     ]
    }
   ],
   "source": [
    "c.name = \"\""
   ]
  },
  {
   "cell_type": "code",
   "execution_count": null,
   "metadata": {
    "collapsed": true
   },
   "outputs": [],
   "source": [
    "c._del_name()"
   ]
  },
  {
   "cell_type": "code",
   "execution_count": null,
   "metadata": {
    "collapsed": false
   },
   "outputs": [],
   "source": [
    "print('This should be empty -> \"' + c.name + '\"')"
   ]
  },
  {
   "cell_type": "code",
   "execution_count": null,
   "metadata": {
    "collapsed": false
   },
   "outputs": [],
   "source": [
    "help(Color)"
   ]
  },
  {
   "cell_type": "markdown",
   "metadata": {},
   "source": [
    "Decorators:\n",
    "Another way of creating properties using decorators.\n",
    "It is using just the @property tag just before the definition of the method, instead of puting it at the end of the class like above example."
   ]
  },
  {
   "cell_type": "code",
   "execution_count": null,
   "metadata": {
    "collapsed": false
   },
   "outputs": [],
   "source": [
    "class Color2:\n",
    "    def __init__(self, rgb_value, name):\n",
    "        self.rgb_value = rgb_value\n",
    "        self._name = name\n",
    "        \n",
    "    @property\n",
    "    def name(self):\n",
    "        \"This is a docstring for documentation.\"\n",
    "        return self._name\n",
    "    \n",
    "    @name.setter\n",
    "    def name(self, name):\n",
    "        if not name:\n",
    "            raise Exception(\"Invalid name.\")\n",
    "        self._name = name\n",
    "    \n",
    "    @name.getter\n",
    "    def name(self):\n",
    "        return self._name\n",
    "    \n",
    "    @name.deleter\n",
    "    def name(self):\n",
    "        self._name = \"\"\n",
    "        \n",
    "    \n",
    "    "
   ]
  },
  {
   "cell_type": "code",
   "execution_count": null,
   "metadata": {
    "collapsed": false
   },
   "outputs": [],
   "source": [
    "c2 = Color2(\"#0000ff\",\"bright red\")"
   ]
  },
  {
   "cell_type": "code",
   "execution_count": null,
   "metadata": {
    "collapsed": false
   },
   "outputs": [],
   "source": [
    "print('Name: {}'.format(c2.name))"
   ]
  },
  {
   "cell_type": "markdown",
   "metadata": {
    "collapsed": false
   },
   "source": [
    "# The only differente between an attribute and a property is that we can invoke custom actions automatically when a property is retirved, set or deleted.\n"
   ]
  },
  {
   "cell_type": "code",
   "execution_count": null,
   "metadata": {
    "collapsed": true
   },
   "outputs": [],
   "source": [
    "A common example of a custom behaviour for getting an atribute is caching:"
   ]
  },
  {
   "cell_type": "code",
   "execution_count": null,
   "metadata": {
    "collapsed": false
   },
   "outputs": [],
   "source": [
    "from urllib.request import urlopen\n",
    "\n",
    "class WebPage:\n",
    "    def __init__(self, url):\n",
    "        self.url = url\n",
    "        self._content = None\n",
    "    \n",
    "    @property\n",
    "    def content(self):\n",
    "        if not self._content:\n",
    "            print(\"Retrieving New Page...\")\n",
    "            self._content = urlopen(self.url)\n",
    "        return self._content"
   ]
  },
  {
   "cell_type": "code",
   "execution_count": null,
   "metadata": {
    "collapsed": false
   },
   "outputs": [],
   "source": [
    "import time\n",
    "webpage = WebPage(\"http://www.password.sov\")\n",
    "now = time.time()\n",
    "content1 = webpage.content\n"
   ]
  },
  {
   "cell_type": "code",
   "execution_count": null,
   "metadata": {
    "collapsed": false
   },
   "outputs": [],
   "source": [
    "time.time() - now"
   ]
  },
  {
   "cell_type": "code",
   "execution_count": null,
   "metadata": {
    "collapsed": false
   },
   "outputs": [],
   "source": [
    "now = time.time()\n",
    "content2 = webpage.content\n",
    "time.time() - now"
   ]
  },
  {
   "cell_type": "code",
   "execution_count": null,
   "metadata": {
    "collapsed": false
   },
   "outputs": [],
   "source": [
    "content2 == content1"
   ]
  },
  {
   "cell_type": "markdown",
   "metadata": {},
   "source": [
    "Another example of property getters"
   ]
  },
  {
   "cell_type": "code",
   "execution_count": null,
   "metadata": {
    "collapsed": true
   },
   "outputs": [],
   "source": [
    "class AverageList(list):\n",
    "    @property\n",
    "    def average(self):\n",
    "        return sum(self) / len(self)"
   ]
  },
  {
   "cell_type": "code",
   "execution_count": null,
   "metadata": {
    "collapsed": false
   },
   "outputs": [],
   "source": [
    "a = AverageList([1,2,3,4])\n",
    "a.average"
   ]
  },
  {
   "cell_type": "markdown",
   "metadata": {},
   "source": [
    "So instead of building a method called calculate_average() or average() we can use a property to set it as an attribute of the class. "
   ]
  },
  {
   "cell_type": "markdown",
   "metadata": {},
   "source": [
    "New section:\n",
    "# Manager objects"
   ]
  },
  {
   "cell_type": "markdown",
   "metadata": {},
   "source": [
    "An example with a manager object for opening zip files and replacing a string inside the file and zipping it back again."
   ]
  },
  {
   "cell_type": "code",
   "execution_count": null,
   "metadata": {
    "collapsed": true
   },
   "outputs": [],
   "source": [
    "import sys\n",
    "import shutil\n",
    "import zipfile\n",
    "from pathlib import Path"
   ]
  },
  {
   "cell_type": "code",
   "execution_count": null,
   "metadata": {
    "collapsed": true
   },
   "outputs": [],
   "source": []
  },
  {
   "cell_type": "code",
   "execution_count": null,
   "metadata": {
    "collapsed": true
   },
   "outputs": [],
   "source": []
  },
  {
   "cell_type": "code",
   "execution_count": null,
   "metadata": {
    "collapsed": false
   },
   "outputs": [],
   "source": [
    "class ZipReplace:\n",
    "    def __init__(self, filename, search_string, replace_string):\n",
    "        self.filename = filename\n",
    "        self.search_string = search_string\n",
    "        self.replace_string = replace_string\n",
    "        self.temp_directory = Path(\"unzippped-{}\".format(filename))\n",
    "        \n",
    "    \"\"\"below are the method for calling another methods\"\"\"\n",
    "    def zip_find_replace(self):\n",
    "        self.unzip_files()\n",
    "        self.find_replace()\n",
    "        self.zip_files()\n",
    "        \n",
    "    def fnid_replace(self):\n",
    "        for filename in self.temp_directory,iterdir():\n",
    "            with filename.open() as file:\n",
    "                contents = file.read()\n",
    "            contents = contents.replace(self.search_string, self.replace_string)\n",
    "            with filename.open(\"w\") as file:\n",
    "                file.write(contents)\n",
    "            \n",
    "    def zip_files(self):\n",
    "        with fipzile.ZipFile(self.filename, 'W') as file:\n",
    "            for filename in self.temp_directory.iterdir():\n",
    "                file.write(str(filename), filename.name)\n",
    "        shutil.rmtree(str(self.temp_directory))\n",
    "        \n",
    "if __name__ == \"__main__\":\n",
    "    ZipReplace(*sys.argv[1:4]).zip_file_replace()"
   ]
  },
  {
   "cell_type": "markdown",
   "metadata": {},
   "source": [
    "# In practice"
   ]
  },
  {
   "cell_type": "code",
   "execution_count": null,
   "metadata": {
    "collapsed": true
   },
   "outputs": [],
   "source": [
    "class ZipProcessor:\n",
    "    def __init__(self, zipname):\n",
    "        self.zipname = zipname\n",
    "        self.temp_directory = Path(\"unzippped-{}\".format(zipname[:-4]))\n",
    "        \n",
    "    \"\"\"below are the method for calling another methods\"\"\"\n",
    "    def process_zip(self):\n",
    "        self.unzip_files()\n",
    "        self.process_files()\n",
    "        self.zip_files()\n",
    "    \n",
    "    def unzip_files(self):\n",
    "        self.temp_directory.mkdir()\n",
    "        with zipfile.ZipFile(self.zipname) as zip:\n",
    "            zip.extractall(str(self.temp_directory))\n",
    "            \n",
    "    def zip_files(self):\n",
    "        with zipzile.ZipFile(self.zipname, 'w') as file:\n",
    "            for filename in self.temp_directory.iterdir():\n",
    "                file.write(str(filename), filename.name)\n",
    "        shutil.rmtree(str(self.temp_directory))\n",
    "        \n"
   ]
  },
  {
   "cell_type": "markdown",
   "metadata": {
    "collapsed": false
   },
   "source": [
    "Check the fodler chapter5. Was developed using PyCharm and can be tested using the python command line."
   ]
  },
  {
   "cell_type": "markdown",
   "metadata": {
    "collapsed": true
   },
   "source": [
    "# Case study"
   ]
  },
  {
   "cell_type": "code",
   "execution_count": null,
   "metadata": {
    "collapsed": true
   },
   "outputs": [],
   "source": [
    "class Document:\n",
    "    def __init__(self):\n",
    "        self.characters = []\n",
    "        self.cursor = 0\n",
    "        self.filename = ''\n",
    "    \n",
    "    def insert(self, character):\n",
    "        self.characters.insert(self.cursor, character)\n",
    "        self.cursor += 1\n",
    "        \n",
    "    def delete(self):\n",
    "        del self.characters[self.cursor]\n",
    "    \n",
    "    def save(self):\n",
    "        with open(self.filename, 'w') as f:\n",
    "            f.write(''.join(self.characters))\n",
    "    \n",
    "    def forward(self):\n",
    "        if self.cursor < len(self.characters):\n",
    "            self.cursor += 1\n",
    "    \n",
    "    def back(self):\n",
    "        if self.cursor > 0:\n",
    "            self.cursor -= 1"
   ]
  },
  {
   "cell_type": "code",
   "execution_count": null,
   "metadata": {
    "collapsed": true
   },
   "outputs": [],
   "source": [
    "doc = Document()\n",
    "doc.filename = \"test_document.txt\""
   ]
  },
  {
   "cell_type": "code",
   "execution_count": null,
   "metadata": {
    "collapsed": false
   },
   "outputs": [],
   "source": [
    "doc.insert('h')\n",
    "doc.insert('e')\n",
    "doc.insert('l')\n",
    "doc.insert('l')\n",
    "doc.insert('o')\n",
    "print(\"\".join(doc.characters))\n",
    "doc.back()\n",
    "doc.delete()\n",
    "doc.insert('p')\n",
    "print(\"\".join(doc.characters))\n"
   ]
  },
  {
   "cell_type": "markdown",
   "metadata": {},
   "source": [
    "Moving the Cursor atribute to a new class with methods to handle several actions"
   ]
  },
  {
   "cell_type": "code",
   "execution_count": 8,
   "metadata": {
    "collapsed": true
   },
   "outputs": [],
   "source": [
    "class Cursor:\n",
    "    def __init__(self, document):\n",
    "        self.document = document\n",
    "        self.position = 0\n",
    "    \n",
    "    def forward(self):\n",
    "        if self.position < len(self.document.characters):\n",
    "            self.position += 1\n",
    "    \n",
    "    def back(self):\n",
    "        if self.position > 0:\n",
    "            self.position -= 1\n",
    "    \n",
    "    def home(self):\n",
    "        while self.document.characters[self.position-1] != '\\n':\n",
    "            self.position -= 1\n",
    "            if self.position == 0:\n",
    "                # Got to beginning of file\n",
    "                break\n",
    "    \n",
    "    def end(self):\n",
    "        while self.position < len(self.document.characters) and self.document.characters[self.position] != '\\n':\n",
    "            self.position += 1\n",
    "            \n",
    "                "
   ]
  },
  {
   "cell_type": "code",
   "execution_count": 15,
   "metadata": {
    "collapsed": true
   },
   "outputs": [],
   "source": [
    "# now the Document class with the Cursor class embeded\n",
    "class Document:\n",
    "    def __init__(self):\n",
    "        self.characters = []\n",
    "        self.cursor = Cursor(self)\n",
    "        self.filename = ''\n",
    "    \n",
    "    def insert(self, character):\n",
    "        self.characters.insert(self.cursor.position, character)\n",
    "        self.cursor.forward()\n",
    "        \n",
    "    def delete(self):\n",
    "        del self.characters[self.cursor.position]\n",
    "    \n",
    "    def save(self):\n",
    "        with open(self.filename, 'w') as f:\n",
    "            f.write(''.join(self.characters))\n",
    "            \n",
    "    @property\n",
    "    def string(self):\n",
    "        return \"\".join(self.characters)\n",
    "    \n",
    "    @property\n",
    "    def length(self):\n",
    "        return len(self.characters)\n",
    "    \n",
    "    @property\n",
    "    def len(self):\n",
    "        return self.length"
   ]
  },
  {
   "cell_type": "code",
   "execution_count": 16,
   "metadata": {
    "collapsed": true
   },
   "outputs": [],
   "source": [
    "doc = Document()\n",
    "doc.filename = \"test_document.txt\""
   ]
  },
  {
   "cell_type": "code",
   "execution_count": 17,
   "metadata": {
    "collapsed": false
   },
   "outputs": [
    {
     "name": "stdout",
     "output_type": "stream",
     "text": [
      "hell\n",
      "Lworld\n"
     ]
    }
   ],
   "source": [
    "doc.insert('h')\n",
    "doc.insert('e')\n",
    "doc.insert('l')\n",
    "doc.insert('l')\n",
    "doc.insert('o')\n",
    "doc.cursor.back()\n",
    "doc.delete()\n",
    "doc.insert('\\n')\n",
    "doc.insert('w')\n",
    "doc.insert('o')\n",
    "doc.insert('r')\n",
    "doc.insert('l')\n",
    "doc.insert('d')\n",
    "doc.cursor.home()\n",
    "doc.insert('L')\n",
    "print(\"\".join(doc.characters))\n"
   ]
  },
  {
   "cell_type": "code",
   "execution_count": 20,
   "metadata": {
    "collapsed": false
   },
   "outputs": [
    {
     "name": "stdout",
     "output_type": "stream",
     "text": [
      "Length: 11\n",
      "hell\n",
      "Lworld\n"
     ]
    }
   ],
   "source": [
    "print('Length: {}'.format(doc.len))\n",
    "print(doc.string)"
   ]
  },
  {
   "cell_type": "code",
   "execution_count": 21,
   "metadata": {
    "collapsed": true
   },
   "outputs": [],
   "source": [
    "# A implementatio of a class Character to address properties like bold, italic and underline format of strings in a Right Text Format document\n",
    "class Character:\n",
    "    def __init__(self, character, bold=False, italic=False, underline=False):\n",
    "        assert len(caracter) == 1\n",
    "        self.character = character\n",
    "        self.bold = bold\n",
    "        self.italic = italic\n",
    "        self.underline = underline\n",
    "    \n",
    "    def __str__(self):\n",
    "        bold = '*' if self.bold else ''\n",
    "        italic = '/' if self.italic else ''\n",
    "        underline = '_' if self.underline else ''\n",
    "        return bold + italic + underline + self.character\n",
    "    "
   ]
  },
  {
   "cell_type": "code",
   "execution_count": 23,
   "metadata": {
    "collapsed": true
   },
   "outputs": [],
   "source": [
    "# lets declare again the class document with new class CHaracter\n",
    "# now the Document class with the Cursor class embeded\n",
    "class Document:\n",
    "    def __init__(self):\n",
    "        self.characters = []\n",
    "        self.cursor = Cursor(self)\n",
    "        self.filename = ''\n",
    "    \n",
    "    def insert(self, character):\n",
    "        if hasattr(character,'character'):\n",
    "            self.characters.insert(self.cursor.position, Character(character))\n",
    "            self.cursor.forward()\n",
    "        \n",
    "    def delete(self):\n",
    "        del self.characters[self.cursor.position]\n",
    "    \n",
    "    def save(self):\n",
    "        with open(self.filename, 'w') as f:\n",
    "            f.write(''.join(self.characters))\n",
    "            \n",
    "    @property\n",
    "    def string(self):\n",
    "        return \"\".join(self.characters)\n",
    "    \n",
    "    @property\n",
    "    def length(self):\n",
    "        return len(self.characters)\n",
    "    \n",
    "    @property\n",
    "    def len(self):\n",
    "        return self.length"
   ]
  },
  {
   "cell_type": "code",
   "execution_count": null,
   "metadata": {
    "collapsed": true
   },
   "outputs": [],
   "source": []
  }
 ],
 "metadata": {
  "kernelspec": {
   "display_name": "Python 3",
   "language": "python",
   "name": "python3"
  },
  "language_info": {
   "codemirror_mode": {
    "name": "ipython",
    "version": 3
   },
   "file_extension": ".py",
   "mimetype": "text/x-python",
   "name": "python",
   "nbconvert_exporter": "python",
   "pygments_lexer": "ipython3",
   "version": "3.6.0"
  }
 },
 "nbformat": 4,
 "nbformat_minor": 2
}
