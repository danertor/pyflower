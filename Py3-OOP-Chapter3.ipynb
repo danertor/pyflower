{
 "cells": [
  {
   "cell_type": "code",
   "execution_count": 1,
   "metadata": {
    "collapsed": true
   },
   "outputs": [],
   "source": [
    "class BaseClass:\n",
    "    num_base_calls = 0\n",
    "    def call_me(self):\n",
    "        print(\"Calling method on Base Class\")\n",
    "        self.num_base_calls += 1\n",
    "\n",
    "        \n",
    "class LeftSubclass(BaseClass):\n",
    "    num_left_calls = 0\n",
    "    def call_me(self):\n",
    "        BaseClass.call_me(self)\n",
    "        print(\"Calling method on Left Subclass\")\n",
    "        self.num_left_calls += 1\n",
    "\n",
    "class RightSubclass(BaseClass):\n",
    "    num_right_calls = 0\n",
    "    def call_me(self):\n",
    "        BaseClass.call_me(self)\n",
    "        print(\"Calling method on Right Subclass\")\n",
    "        self.num_right_calls += 1\n",
    "\n",
    "    \n",
    "class Subclass(LeftSubclass, RightSubclass):\n",
    "    num_sub_calls = 0\n",
    "    def call_me(self):\n",
    "        LeftSubclass.call_me(self)\n",
    "        RightSubclass.call_me(self)\n",
    "        print(\"Calling method on Subclass\")\n",
    "        self.num_sub_calls += 1"
   ]
  },
  {
   "cell_type": "code",
   "execution_count": 7,
   "metadata": {
    "collapsed": true
   },
   "outputs": [],
   "source": [
    "s = Subclass()"
   ]
  },
  {
   "cell_type": "code",
   "execution_count": 18,
   "metadata": {
    "collapsed": false
   },
   "outputs": [
    {
     "name": "stdout",
     "output_type": "stream",
     "text": [
      "Calling method on Base Class\n",
      "Calling method on Right Subclass\n",
      "Calling method on Left Subclass\n",
      "Calling method on Subclass\n",
      "2 2 2 2\n"
     ]
    }
   ],
   "source": [
    "s.call_me()\n",
    "print(s.num_sub_calls, s.num_left_calls, s.num_right_calls,\n",
    "s.num_base_calls)"
   ]
  },
  {
   "cell_type": "code",
   "execution_count": 19,
   "metadata": {
    "collapsed": true
   },
   "outputs": [],
   "source": [
    "del s"
   ]
  },
  {
   "cell_type": "code",
   "execution_count": 20,
   "metadata": {
    "collapsed": true
   },
   "outputs": [],
   "source": [
    "class BaseClass:\n",
    "    num_base_calls = 0\n",
    "    def call_me(self):\n",
    "        print(\"Calling method on Base Class\")\n",
    "        self.num_base_calls += 1\n",
    "\n",
    "        \n",
    "class LeftSubclass(BaseClass):\n",
    "    num_left_calls = 0\n",
    "    def call_me(self):\n",
    "        super().call_me()\n",
    "        print(\"Calling method on Left Subclass\")\n",
    "        self.num_left_calls += 1\n",
    "\n",
    "class RightSubclass(BaseClass):\n",
    "    num_right_calls = 0\n",
    "    def call_me(self):\n",
    "        super().call_me()\n",
    "        print(\"Calling method on Right Subclass\")\n",
    "        self.num_right_calls += 1\n",
    "\n",
    "    \n",
    "class Subclass(LeftSubclass, RightSubclass):\n",
    "    num_sub_calls = 0\n",
    "    def call_me(self):\n",
    "        super().call_me()\n",
    "        print(\"Calling method on Subclass\")\n",
    "        self.num_sub_calls += 1"
   ]
  },
  {
   "cell_type": "code",
   "execution_count": 26,
   "metadata": {
    "collapsed": false
   },
   "outputs": [
    {
     "name": "stdout",
     "output_type": "stream",
     "text": [
      "Calling method on Base Class\n",
      "Calling method on Right Subclass\n",
      "Calling method on Left Subclass\n",
      "Calling method on Subclass\n",
      "1 1 1 1\n"
     ]
    }
   ],
   "source": [
    "s = Subclass()\n",
    "s.call_me()\n",
    "print(s.num_sub_calls, s.num_left_calls, s.num_right_calls,\n",
    "s.num_base_calls)"
   ]
  },
  {
   "cell_type": "markdown",
   "metadata": {},
   "source": [
    "Using **kwargs as passing arguments to super classes\n",
    "\n"
   ]
  },
  {
   "cell_type": "code",
   "execution_count": 46,
   "metadata": {
    "collapsed": false
   },
   "outputs": [],
   "source": [
    "#Contacts.py\n",
    "class ContactList(list):\n",
    "    def __init__(self):\n",
    "        list.__init__(self)\n",
    "#        print(\"ContactList:\" + str(type(self)))\n",
    "\n",
    "    def search(self, name):\n",
    "        \"\"\"Return all contacts that contain the search value\n",
    "        in their name.\"\"\"\n",
    "        matching_contacts = []\n",
    "        for contact in self:\n",
    "            if name in contact.name:\n",
    "                matching_contacts.append(contact)\n",
    "        return matching_contacts\n",
    "\n",
    "\n",
    "class Contact:\n",
    "    all_contacts = ContactList()  # class variable! shared by all instances of the class!\n",
    "\n",
    "    def __init__(self, name='', email='',phone='', **kwargs):\n",
    "        super().__init__(**kwargs)\n",
    "        self.name = name\n",
    "        self.email = email\n",
    "        self.mobile = phone\n",
    "        Contact.all_contacts.append(self)\n",
    "        print(\"Contact:\" + str(type(self)))\n",
    "\n",
    "\n",
    "class AddressHolder:\n",
    "    def __init__(self, street='', city='', state='', code='', **kwargs):\n",
    "        super().__init__(**kwargs)\n",
    "        self.street = street\n",
    "        self.city = city\n",
    "        self.state = state\n",
    "        self.code = code\n",
    "\n",
    "class Supplier(Contact):\n",
    "    def order(self, order):\n",
    "        print(\"If this were a real system we would send {} order to {}\".format(order, self.name))\n",
    "\n",
    "\n",
    "class Friend(Contact, AddressHolder):\n",
    "    def __init__(self, phone='', **kwargs):\n",
    "        if phone:\n",
    "          kwargs['phone'] = phone\n",
    "        super().__init__(**kwargs)\n",
    "        self.phone = phone\n",
    "\n",
    "\n",
    "class MailSender:\n",
    "    def send_mail(self, message):\n",
    "        print(\"Sending mail to \" + self.email)\n",
    "        # Add e-mail logic here\n",
    "\n",
    "\n",
    "class EmailableContact(Contact, MailSender):\n",
    "    pass\n",
    "\n"
   ]
  },
  {
   "cell_type": "code",
   "execution_count": 47,
   "metadata": {
    "collapsed": false
   },
   "outputs": [
    {
     "name": "stdout",
     "output_type": "stream",
     "text": [
      "Contact:<class '__main__.Friend'>\n"
     ]
    }
   ],
   "source": [
    "c = Friend('a', email='d')\n"
   ]
  },
  {
   "cell_type": "code",
   "execution_count": 48,
   "metadata": {
    "collapsed": false
   },
   "outputs": [
    {
     "name": "stdout",
     "output_type": "stream",
     "text": [
      "d\n"
     ]
    }
   ],
   "source": [
    "print(c.email)"
   ]
  },
  {
   "cell_type": "code",
   "execution_count": 50,
   "metadata": {
    "collapsed": false
   },
   "outputs": [
    {
     "name": "stdout",
     "output_type": "stream",
     "text": [
      "a\n"
     ]
    }
   ],
   "source": [
    "print(c.mobile)"
   ]
  },
  {
   "cell_type": "markdown",
   "metadata": {},
   "source": [
    "# Polymorphism"
   ]
  },
  {
   "cell_type": "code",
   "execution_count": 55,
   "metadata": {
    "collapsed": false
   },
   "outputs": [],
   "source": [
    "class AudioFile:\n",
    "    def __init__(self, filename):\n",
    "        #this access to self.ext variable from subclasses in the polymorfism\n",
    "        if not filename.endswith(self.ext):\n",
    "            raise Exception(\"Invalid file format\")\n",
    "        self.filename = filename\n",
    "\n",
    "class MP3File(AudioFile):\n",
    "    ext = 'mp3'\n",
    "    def play(self):\n",
    "        print(\"playing {} as mp3\".format(self.filename))\n",
    "\n",
    "class WavFile(AudioFile):\n",
    "    ext = 'wav'\n",
    "    def play(self):\n",
    "        print(\"playing {} as wav\".format(self.filename))\n",
    "\n",
    "class OggFile(AudioFile):\n",
    "    ext = 'ogg'\n",
    "    def play(self):\n",
    "        print(\"playing {} as ogg\".format(self.filename))\n",
    "        \n",
    "        \n",
    "        "
   ]
  },
  {
   "cell_type": "code",
   "execution_count": 57,
   "metadata": {
    "collapsed": false
   },
   "outputs": [],
   "source": [
    "ogg = OggFile(\"myfile.ogg\")"
   ]
  },
  {
   "cell_type": "code",
   "execution_count": 58,
   "metadata": {
    "collapsed": false
   },
   "outputs": [
    {
     "name": "stdout",
     "output_type": "stream",
     "text": [
      "playing myfile.ogg as ogg\n"
     ]
    }
   ],
   "source": [
    "ogg.play()"
   ]
  },
  {
   "cell_type": "code",
   "execution_count": 59,
   "metadata": {
    "collapsed": true
   },
   "outputs": [],
   "source": [
    "mp3 = MP3File(\"myfile.mp3\")"
   ]
  },
  {
   "cell_type": "code",
   "execution_count": 60,
   "metadata": {
    "collapsed": false
   },
   "outputs": [
    {
     "name": "stdout",
     "output_type": "stream",
     "text": [
      "playing myfile.mp3 as mp3\n"
     ]
    }
   ],
   "source": [
    "mp3.play()"
   ]
  },
  {
   "cell_type": "code",
   "execution_count": 62,
   "metadata": {
    "collapsed": false
   },
   "outputs": [
    {
     "ename": "Exception",
     "evalue": "Invalid file format",
     "output_type": "error",
     "traceback": [
      "\u001b[0;31m---------------------------------------------------------------------------\u001b[0m",
      "\u001b[0;31mException\u001b[0m                                 Traceback (most recent call last)",
      "\u001b[0;32m<ipython-input-62-cbf790401006>\u001b[0m in \u001b[0;36m<module>\u001b[0;34m()\u001b[0m\n\u001b[0;32m----> 1\u001b[0;31m \u001b[0mnot_an_mp3\u001b[0m \u001b[1;33m=\u001b[0m \u001b[0mOggFile\u001b[0m\u001b[1;33m(\u001b[0m\u001b[1;34m\"myfile.mp3\"\u001b[0m\u001b[1;33m)\u001b[0m\u001b[1;33m\u001b[0m\u001b[0m\n\u001b[0m",
      "\u001b[0;32m<ipython-input-55-b8407a27ec3d>\u001b[0m in \u001b[0;36m__init__\u001b[0;34m(self, filename)\u001b[0m\n\u001b[1;32m      3\u001b[0m         \u001b[1;31m#this access to self.ext variable from subclasses in the polymorfism\u001b[0m\u001b[1;33m\u001b[0m\u001b[1;33m\u001b[0m\u001b[0m\n\u001b[1;32m      4\u001b[0m         \u001b[1;32mif\u001b[0m \u001b[1;32mnot\u001b[0m \u001b[0mfilename\u001b[0m\u001b[1;33m.\u001b[0m\u001b[0mendswith\u001b[0m\u001b[1;33m(\u001b[0m\u001b[0mself\u001b[0m\u001b[1;33m.\u001b[0m\u001b[0mext\u001b[0m\u001b[1;33m)\u001b[0m\u001b[1;33m:\u001b[0m\u001b[1;33m\u001b[0m\u001b[0m\n\u001b[0;32m----> 5\u001b[0;31m             \u001b[1;32mraise\u001b[0m \u001b[0mException\u001b[0m\u001b[1;33m(\u001b[0m\u001b[1;34m\"Invalid file format\"\u001b[0m\u001b[1;33m)\u001b[0m\u001b[1;33m\u001b[0m\u001b[0m\n\u001b[0m\u001b[1;32m      6\u001b[0m         \u001b[0mself\u001b[0m\u001b[1;33m.\u001b[0m\u001b[0mfilename\u001b[0m \u001b[1;33m=\u001b[0m \u001b[0mfilename\u001b[0m\u001b[1;33m\u001b[0m\u001b[0m\n\u001b[1;32m      7\u001b[0m \u001b[1;33m\u001b[0m\u001b[0m\n",
      "\u001b[0;31mException\u001b[0m: Invalid file format"
     ]
    }
   ],
   "source": [
    "not_an_mp3 = OggFile(\"myfile.mp3\")"
   ]
  },
  {
   "cell_type": "markdown",
   "metadata": {},
   "source": [
    "## Duck typing"
   ]
  },
  {
   "cell_type": "code",
   "execution_count": 67,
   "metadata": {
    "collapsed": true
   },
   "outputs": [],
   "source": [
    "class FlacFile:\n",
    "    def __init__(self, filename):\n",
    "        if not filename.endswith(\".flac\"):\n",
    "            raise Exception(\"Invalid file format\")\n",
    "        self.filename = filename\n",
    "\n",
    "    def play(self):\n",
    "        print(\"playing {} as flac\").format(self.filename)"
   ]
  },
  {
   "cell_type": "code",
   "execution_count": 70,
   "metadata": {
    "collapsed": true
   },
   "outputs": [],
   "source": [
    "# the software can call this object and call play() function\n",
    "# an operates normally, despite being FlacFile not a subclass\n",
    "# from AudioFile\n",
    "\n"
   ]
  },
  {
   "cell_type": "markdown",
   "metadata": {},
   "source": [
    "## Case Study\n"
   ]
  },
  {
   "cell_type": "code",
<<<<<<< HEAD
   "execution_count": 3,
   "metadata": {
    "collapsed": true
=======
   "execution_count": 1,
   "metadata": {
    "collapsed": false
>>>>>>> b829bcb465b0e32104dbe492037b6da0f67e9948
   },
   "outputs": [],
   "source": [
    "def get_valid_input(input_string, valid_options):\n",
    "    input_string += \" ({}) \".format(\", \".join(valid_options))\n",
    "    response = input(input_string)\n",
    "    while response.lower() not in valid_options:\n",
    "        response = input(input_string)\n",
    "    return response.lower()\n",
    "\n",
    "\n",
    "class Property:\n",
    "    def __init__(self, square_feet='', beds='',baths='', **kwargs):\n",
    "        super().__init__(**kwargs)\n",
    "        self.square_feet = square_feet\n",
    "        self.num_bedrooms = beds\n",
    "        self.num_baths = baths\n",
    "    \n",
    "    def display(self):\n",
    "        print(\"PROPERTY DETAILS\")\n",
    "        print(\"================\")\n",
    "        print(\"square footage: {}\".format(self.square_feet))\n",
    "        print(\"bedrooms: {}\".format(self.num_bedrooms))\n",
    "        print(\"bathrooms: {}\".format(self.num_baths))\n",
    "        print()\n",
    "        \n",
    "    def prompt_init():\n",
<<<<<<< HEAD
    "        return dict(square_feet=input(\"Enter the square feet: \"), beds=input(\"Enter number of bedrooms: \"), baths=input(\"enter the numnber of bedrooms: \"))\n",
=======
    "        return dict(square_feet=input(\"Enter the square feet: \"), beds=input(\"Enter number of bedrooms: \"), baths=input(\"enter the numnber of baths: \"))\n",
>>>>>>> b829bcb465b0e32104dbe492037b6da0f67e9948
    "    \n",
    "    prompt_init = staticmethod(prompt_init) # this is the same as putting the decorate \"@staticmethod\" before the def prompt_init method\n",
    "    \n",
    "\n",
    "class Apartment(Property):    \n",
    "    valid_laundries = (\"coin\", \"ensuite\", \"none\")\n",
    "    valid_balconies = (\"yes\", \"no\", \"solarium\")\n",
    "    \n",
    "    def __init__(self, balcony='', laundry='', **kwargs):\n",
    "        super().__init__(**kwargs)\n",
    "        self.balcony = balcony\n",
    "        self.laundry = laundry\n",
    "    \n",
    "    def display(self):\n",
    "        super().display()\n",
    "        print(\"APARTMENT DETAILS\")\n",
    "        print(\"laundry: %s\" % self.laundry)\n",
    "        print(\"has balcony: %s\" % self.balcony)\n",
    "        \n",
    "    def prompt_init():\n",
    "        parent_init = Property.prompt_init() # this returns a dict\n",
    "        laundry = ''\n",
    "        while laundry.lower() not in Apartment.valid_laundries:\n",
    "            laundry = get_valid_input(\"What laundry facilities does the \"\n",
    "                            \"property have? \", Apartment.valid_laundries)\n",
    "        balcony = ''\n",
    "        while balcony.lower() not in Apartment.valid_balconies:\n",
    "            balcony = get_valid_input(\"Does the balcony have a balcony? \", Apartment.valid_balconies)\n",
    "        parent_init.update({\"laundry\": laundry, \"balcony\": balcony})\n",
    "        return parent_init\n",
    "        \n",
    "class House(Property):\n",
    "    valid_garage = (\"attached\",\"detached\", \"none\")\n",
    "    valid_fenced = (\"yes\",\"no\")\n",
    "    \n",
    "    def __init__(self, num_stories='', garage='', fenced='', **kwargs):\n",
    "        super().__init__(**kwargs)\n",
    "        self.garage = garage\n",
    "        self.fenced = fenced\n",
    "        self.num_stories = num_stories\n",
    "\n",
    "    def display(self):        \n",
    "        super().display()       \n",
    "        print(\"HOUSE DETAILS\")    \n",
    "        print(\"# of stories: {}\".format(self.num_stories))        \n",
    "        print(\"garage: {}\".format(self.garage))      \n",
    "        print(\"fenced yard: {}\".format(self.fenced)) \n",
    "\n",
    "    def prompt_init():\n",
    "        parent_init = Property.prompt_init()\n",
    "        fenced = get_valid_input(\"Is the yard fenced? \", House.valid_fenced)\n",
    "        garage = get_valid_input(\"Type of garage? \", House.valid_garage)\n",
<<<<<<< HEAD
    "        nun_stories = input(\"Hoy many stories? \")\n",
=======
    "        num_stories = input(\"How many stories? \")\n",
>>>>>>> b829bcb465b0e32104dbe492037b6da0f67e9948
    "\n",
    "        parent_init.update({\"fenced\": fenced, \"garage\": garage, \"num_stories\": num_stories })\n",
    "        return parent_init\n",
    "\n",
    "    prompt_init = staticmethod(prompt_init)\n",
    "\n",
    "\n",
    "class Purchase:\n",
    "    def __init__(self, price='', taxes='', **kwargs):\n",
    "        super().__init__(**kwargs)\n",
    "        self.price = price        \n",
    "        self.taxes = taxes\n",
    "         \n",
    "    def display(self):       \n",
    "        super().display()      \n",
    "        print(\"PURCHASE DETAILS\")     \n",
    "        print(\"selling price: {}\".format(self.price))   \n",
    "        print(\"estimated taxes: {}\".format(self.taxes))\n",
    "        \n",
    "    def prompt_init():\n",
    "        return dict(\n",
    "            price=input(\"What is the selling price? \"),         \n",
    "            taxes=input(\"What are the estimated taxes? \"))  \n",
    "    prompt_init = staticmethod(prompt_init)\n",
    "\n",
    "    \n",
    "class Rental:\n",
    "    def __init__(self, furnished='', utilities='', rent='', **kwargs):\n",
    "        super().__init__(**kwargs)\n",
    "        self.furnished = furnished\n",
    "        self.rent = rent\n",
    "        self.utilities = utilities\n",
    "        \n",
    "    def display(self):\n",
    "        super().display()\n",
    "        print(\"RENTAL DETAILS\")\n",
    "        print(\"rent: {}\".format(self.rent))  \n",
    "        print(\"estimated utilities: {}\".format(self.utilities))    \n",
    "        print(\"furnished: {}\".format(self.furnished))\n",
    "        \n",
    "    def prompt_init():\n",
    "        return dict(\n",
    "        rent=input(\"What is the monthly rent? \"),\n",
    "                   utilities=input(\"What are the estimated utilities? \"),\n",
    "        furnished = get_valid_input(\"Is the property furnished? \", (\"yes\", \"no\")))\n",
    "    prompt_init = staticmethod(prompt_init)\n",
    "        \n",
<<<<<<< HEAD
    "        "
=======
    "# the combination of the two classes, House and Rental.\n",
    "class HouseRental(Rental, House):\n",
    "    def prompt_init():\n",
    "        init = House.prompt_init()\n",
    "        init.update(Rental.prompt_init()) # adds the Rental keys values to the dict.\n",
    "        return init\n",
    "    prompt_init = staticmethod(prompt_init)\n",
    "    \n",
    "class ApartmentRental(Rental, Apartment):\n",
    "    def prompt_init():\n",
    "        init = Apartment.prompt_init()\n",
    "        init.update(Rental.prompt_init()) # adds the Rental keys values to the dict.\n",
    "        return init\n",
    "    prompt_init = staticmethod(prompt_init)\n",
    "    \n",
    "class ApartmentPurchase(Purchase, Apartment):\n",
    "    def prompt_init():\n",
    "        init = Apartment.prompt_init()\n",
    "        init.update(Purchase.prompt_init())# adds the Purchase keys values to the dict.\n",
    "        return init\n",
    "    prompt_init = staticmethod(prompt_init)\n",
    "    \n",
    "class HousePurchase(Purchase, House):\n",
    "    def prompt_init():\n",
    "        init = House.prompt_init()\n",
    "        init.update(Purchase.prompt_init())\n",
    "        return init\n",
    "    prompt_init = staticmethod(prompt_init)\n",
    "\n"
>>>>>>> b829bcb465b0e32104dbe492037b6da0f67e9948
   ]
  },
  {
   "cell_type": "code",
   "execution_count": 7,
   "metadata": {
    "collapsed": false
   },
<<<<<<< HEAD
   "outputs": [],
   "source": []
  },
  {
   "cell_type": "code",
   "execution_count": 8,
   "metadata": {
    "collapsed": false
   },
=======
>>>>>>> b829bcb465b0e32104dbe492037b6da0f67e9948
   "outputs": [
    {
     "name": "stdout",
     "output_type": "stream",
     "text": [
<<<<<<< HEAD
      "What laundry? (coin, ensuite, none) asdf as\n",
      "What laundry? (coin, ensuite, none) COIN\n"
=======
      "What laundry? (coin, ensuite, none) Coin\n"
>>>>>>> b829bcb465b0e32104dbe492037b6da0f67e9948
     ]
    },
    {
     "data": {
      "text/plain": [
       "'coin'"
      ]
     },
<<<<<<< HEAD
     "execution_count": 8,
=======
     "execution_count": 7,
>>>>>>> b829bcb465b0e32104dbe492037b6da0f67e9948
     "metadata": {},
     "output_type": "execute_result"
    }
   ],
   "source": [
    "get_valid_input('What laundry?', (\"coin\", \"ensuite\", \"none\"))"
   ]
  },
  {
   "cell_type": "code",
<<<<<<< HEAD
=======
   "execution_count": 8,
   "metadata": {
    "collapsed": false
   },
   "outputs": [
    {
     "name": "stdout",
     "output_type": "stream",
     "text": [
      "Enter the square feet: 35\n",
      "Enter number of bedrooms: 4\n",
      "enter the numnber of baths: 2\n",
      "Is the yard fenced?  (yes, no) yes\n",
      "Type of garage?  (attached, detached, none) none\n",
      "How many stories? 2\n",
      "What is the monthly rent? 2000\n",
      "What are the estimated utilities? 200\n",
      "Is the property furnished?  (yes, no) yes\n"
     ]
    }
   ],
   "source": [
    "init = HouseRental.prompt_init()"
   ]
  },
  {
   "cell_type": "code",
   "execution_count": 10,
   "metadata": {
    "collapsed": true
   },
   "outputs": [],
   "source": [
    "house = HouseRental(**init)"
   ]
  },
  {
   "cell_type": "code",
   "execution_count": 11,
   "metadata": {
    "collapsed": false
   },
   "outputs": [
    {
     "name": "stdout",
     "output_type": "stream",
     "text": [
      "PROPERTY DETAILS\n",
      "================\n",
      "square footage: 35\n",
      "bedrooms: 4\n",
      "bathrooms: 2\n",
      "\n",
      "HOUSE DETAILS\n",
      "# of stories: 2\n",
      "garage: none\n",
      "fenced yard: yes\n",
      "RENTAL DETAILS\n",
      "rent: 2000\n",
      "estimated utilities: 200\n",
      "furnished: yes\n"
     ]
    }
   ],
   "source": [
    "house.display()"
   ]
  },
  {
   "cell_type": "code",
   "execution_count": 7,
   "metadata": {
    "collapsed": false
   },
   "outputs": [],
   "source": [
    "# agent class\n",
    "class Agent():\n",
    "    type_map = {\n",
    "        (\"house\", \"rental\"): HouseRental,\n",
    "        (\"house\", \"purchase\"): HousePurchase,\n",
    "        (\"apartment\", \"rental\"): ApartmentRental,\n",
    "        (\"apartment\", \"purchase\"): ApartmentPurchase\n",
    "        }\n",
    "    def __init__(self):\n",
    "        self.property_list = []\n",
    "    \n",
    "    def display_properties(self):\n",
    "        for property in self.property_list:\n",
    "            property.display()\n",
    "    \n",
    "    def add_property(self):\n",
    "        property_type = get_valid_input(\"What type of property? \", (\"house\", \"apartment\")).lower()\n",
    "        payment_type = get_valid_input(\"what payment type? \", (\"purchase\", \"rental\")).lower()\n",
    "        PropertyClass = self.type_map[property_type, payment_type]\n",
    "        init_args = PropertyClass.prompt_init()\n",
    "        self.property_list.append(PropertyClass(**init_args))\n",
    "        \n",
    "        "
   ]
  },
  {
   "cell_type": "code",
   "execution_count": 8,
   "metadata": {
    "collapsed": true
   },
   "outputs": [],
   "source": [
    "# demo of case study\n",
    "agent = Agent()"
   ]
  },
  {
   "cell_type": "code",
   "execution_count": 9,
   "metadata": {
    "collapsed": false
   },
   "outputs": [
    {
     "name": "stdout",
     "output_type": "stream",
     "text": [
      "What type of property?  (house, apartment) house\n",
      "what payment type?  (purchase, rental) rental\n",
      "Enter the square feet: 35\n",
      "Enter number of bedrooms: 2\n",
      "enter the numnber of baths: 1\n",
      "Is the yard fenced?  (yes, no) no\n",
      "Type of garage?  (attached, detached, none) attached\n",
      "How many stories? 2\n",
      "What is the monthly rent? 1600\n",
      "What are the estimated utilities? 400\n",
      "Is the property furnished?  (yes, no) no\n"
     ]
    }
   ],
   "source": [
    "agent.add_property()"
   ]
  },
  {
   "cell_type": "code",
   "execution_count": 10,
   "metadata": {
    "collapsed": false
   },
   "outputs": [
    {
     "name": "stdout",
     "output_type": "stream",
     "text": [
      "What type of property?  (house, apartment) aparment\n",
      "What type of property?  (house, apartment) apartment\n",
      "what payment type?  (purchase, rental) rental\n",
      "Enter the square feet: 70\n",
      "Enter number of bedrooms: \n",
      "enter the numnber of baths: 1\n",
      "What laundry facilities does the property have?  (coin, ensuite, none) none\n",
      "Does the balcony have a balcony?  (yes, no, solarium) yes\n",
      "What is the monthly rent? 1600\n",
      "What are the estimated utilities? 200\n",
      "Is the property furnished?  (yes, no) no\n"
     ]
    }
   ],
   "source": [
    "agent.add_property()"
   ]
  },
  {
   "cell_type": "code",
   "execution_count": 11,
   "metadata": {
    "collapsed": false
   },
   "outputs": [
    {
     "name": "stdout",
     "output_type": "stream",
     "text": [
      "PROPERTY DETAILS\n",
      "================\n",
      "square footage: 35\n",
      "bedrooms: 2\n",
      "bathrooms: 1\n",
      "\n",
      "HOUSE DETAILS\n",
      "# of stories: 2\n",
      "garage: attached\n",
      "fenced yard: no\n",
      "RENTAL DETAILS\n",
      "rent: 1600\n",
      "estimated utilities: 400\n",
      "furnished: no\n",
      "PROPERTY DETAILS\n",
      "================\n",
      "square footage: 70\n",
      "bedrooms: \n",
      "bathrooms: 1\n",
      "\n",
      "APARTMENT DETAILS\n",
      "laundry: none\n",
      "has balcony: yes\n",
      "RENTAL DETAILS\n",
      "rent: 1600\n",
      "estimated utilities: 200\n",
      "furnished: no\n"
     ]
    }
   ],
   "source": [
    "agent.display_properties()"
   ]
  },
  {
   "cell_type": "code",
>>>>>>> b829bcb465b0e32104dbe492037b6da0f67e9948
   "execution_count": null,
   "metadata": {
    "collapsed": true
   },
   "outputs": [],
   "source": []
  }
 ],
 "metadata": {
  "kernelspec": {
   "display_name": "Python 3",
   "language": "python",
   "name": "python3"
  },
  "language_info": {
   "codemirror_mode": {
    "name": "ipython",
    "version": 3
   },
   "file_extension": ".py",
   "mimetype": "text/x-python",
   "name": "python",
   "nbconvert_exporter": "python",
   "pygments_lexer": "ipython3",
   "version": "3.6.0"
  }
 },
 "nbformat": 4,
 "nbformat_minor": 2
}
