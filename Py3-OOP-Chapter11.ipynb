{
 "cells": [
  {
   "cell_type": "markdown",
   "metadata": {},
   "source": [
    "# The Adapter pattern"
   ]
  },
  {
   "cell_type": "markdown",
   "metadata": {},
   "source": [
    "The flyweight pattern is designed for conserving memory"
   ]
  },
  {
   "cell_type": "code",
   "execution_count": 1,
   "metadata": {
    "collapsed": true
   },
   "outputs": [],
   "source": [
    "class AgeCalculator:\n",
    "    def __init__(self, birthday):\n",
    "        self.year, self.month, self.day = (int(x) for x in birthday.split('-'))\n",
    "    \n",
    "    def calculate_age(self, date):\n",
    "        year, month, day = (int(x) for x in date.split('-'))\n",
    "        age = year - self.year\n",
    "        if (month,day) < (self.month, self.day):\n",
    "            age -= 1\n",
    "        return age"
   ]
  },
  {
   "cell_type": "code",
   "execution_count": 2,
   "metadata": {
    "collapsed": true
   },
   "outputs": [],
   "source": [
    "#Instead, we can write an adapter that allows a normal date to be plugged into a\n",
    "# normal AgeCalculator class:\n",
    "import datetime\n",
    "class DateAgeAdapter:\n",
    "    def _str_date(self, date):\n",
    "        return date.strftime(\"%Y-%m-%d\")\n",
    "    \n",
    "    def __init__(self, birthday):\n",
    "        birthday = self._str_date(birthday)\n",
    "        self.calculator = AgeCalculator(birthday)\n",
    "        \n",
    "    def get_age(self, date):\n",
    "        date = self._str_date(date)\n",
    "        return self.calculator.calculate_age(date)\n"
   ]
  },
  {
   "cell_type": "code",
   "execution_count": 3,
   "metadata": {
    "collapsed": true
   },
   "outputs": [],
   "source": [
    "import datetime\n",
    "class AgeableDate(datetime.date):\n",
    "    def split(self, char):\n",
    "        return self.year, self.month, self.day\n"
   ]
  },
  {
   "cell_type": "code",
   "execution_count": 4,
   "metadata": {
    "collapsed": true
   },
   "outputs": [],
   "source": [
    "bd = AgeableDate(1974, 6, 13)\n",
    "today = AgeableDate.today()"
   ]
  },
  {
   "cell_type": "code",
   "execution_count": 5,
   "metadata": {
    "collapsed": false
   },
   "outputs": [
    {
     "data": {
      "text/plain": [
       "AgeableDate(2017, 12, 21)"
      ]
     },
     "execution_count": 5,
     "metadata": {},
     "output_type": "execute_result"
    }
   ],
   "source": [
    "today"
   ]
  },
  {
   "cell_type": "code",
   "execution_count": 6,
   "metadata": {
    "collapsed": false
   },
   "outputs": [
    {
     "data": {
      "text/plain": [
       "43"
      ]
     },
     "execution_count": 6,
     "metadata": {},
     "output_type": "execute_result"
    }
   ],
   "source": [
    "a = AgeCalculator(bd)\n",
    "a.calculate_age(today)"
   ]
  },
  {
   "cell_type": "markdown",
   "metadata": {},
   "source": [
    "# The facade pattern"
   ]
  },
  {
   "cell_type": "code",
   "execution_count": 8,
   "metadata": {
    "collapsed": false
   },
   "outputs": [],
   "source": [
    "# lets built a application to send and get emails using the facade pattern to abstract a complex taks intoa  simplier interface\n",
    "import smtplib\n",
    "import imaplib\n",
    "\n",
    "class EmailFacade:\n",
    "    def __init__(self, host, username, password):\n",
    "        self.host = host\n",
    "        self.username = username\n",
    "        self.password = password\n",
    "    \n",
    "    def send_email(self, to_email, subject, message):\n",
    "        if not \"@\" in self.username:\n",
    "            from_email = \"{0}@{1}\".format(self.username, self.host)\n",
    "        else:\n",
    "            from_email = self.username\n",
    "        message = (\"From: {0}\\r\\n\"\n",
    "                  \"To: {1}\\r\\n\"\n",
    "                  \"Subject: {2}\\r\\n\\r\\n{3}\").format(from_email, to_email, subject, message)\n",
    "        smtp = smtplib.SMTP(self.host)\n",
    "        smtp.login(self.username, self.password)\n",
    "        smtp.sendmail(from_email, [to_email,message])\n",
    "    \n",
    "    def get_inbox(self):\n",
    "        mailbox = imaplib.IMAP4(self.host)\n",
    "        mailbox.login(bytes(self.username, 'utf8'), bytes(self.password, 'utf8'))\n",
    "        mailbox.select()\n",
    "        x, data = mailbox.search(None, 'ALL')\n",
    "        messages = []\n",
    "        for num in data[0].split():\n",
    "            x, message = mailbox.fetch(num, '(RFC822)')\n",
    "            messages.append(message[0][1])\n",
    "        return messages\n",
    "    \n",
    "        "
   ]
  },
  {
   "cell_type": "markdown",
   "metadata": {},
   "source": [
    "# The flyweight pattern"
   ]
  },
  {
   "cell_type": "code",
   "execution_count": 9,
   "metadata": {
    "collapsed": false
   },
   "outputs": [],
   "source": [
    "# for this pattern we will use a dictionary type from a module that will delete the keys that doesnt have a value\n",
    "import weakref\n",
    "\n",
    "class CarModel:\n",
    "    _models = weakref.WeakValueDictionary()\n",
    "    \n",
    "    def __new__(cls, model_name, *args, **kwargs):\n",
    "        model = cls._models.get(model_name)\n",
    "        if not model:\n",
    "            model = super().__new__(cls)\n",
    "            cls._models[model_name] = model\n",
    "        return model\n",
    "    \n",
    "    def __init__(self, model_name, air=False, tilt=False, cruise_control=False,\n",
    "                 power_locks=False, allow_wheels=False, usb_charger=False):\n",
    "        if not hasattr(self, \"initted\"):\n",
    "            self.initted = True\n",
    "            self.model_name = model_name\n",
    "            self.air = air\n",
    "            self.tilt = tilt\n",
    "            self.cruise_control = cruise_control\n",
    "            self.power_locks = power_locks\n",
    "            self.allow_wheels = allow_wheels\n",
    "            self.usb_charger = usb_charger\n",
    "            \n",
    "    def check_serial(self, serial_number):\n",
    "        print(\"Sorry, we are unable to check \"\n",
    "                 \"the serial number {0} on the {1} \"\n",
    "                 \"at this time\".format(serial_number, self.model_name))\n",
    "        "
   ]
  },
  {
   "cell_type": "code",
   "execution_count": 10,
   "metadata": {
    "collapsed": true
   },
   "outputs": [],
   "source": [
    "class Car:\n",
    "    def __init__(self, model, color, serial):\n",
    "        self.model = model\n",
    "        self.color = color\n",
    "        self.serial = serial\n",
    "        \n",
    "    def check_serial(self):\n",
    "        return self.mode.check_serial(self.serial)\n",
    "    "
   ]
  },
  {
   "cell_type": "code",
   "execution_count": 11,
   "metadata": {
    "collapsed": false
   },
   "outputs": [],
   "source": [
    "dx = CarModel(\"FIT DX\")\n",
    "lx = CarModel(\"FIT LX\", air=True, cruise_control=True, power_locks=True, tilt=True)\n",
    "car1 = Car(dx, \"blue\", \"1235\")\n",
    "car2 = Car(dx, \"black\", \"1236\")\n",
    "car3 = Car(lx, \"red\", \"1237\")\n"
   ]
  },
  {
   "cell_type": "code",
   "execution_count": 12,
   "metadata": {
    "collapsed": false
   },
   "outputs": [
    {
     "data": {
      "text/plain": [
       "1884780667232"
      ]
     },
     "execution_count": 12,
     "metadata": {},
     "output_type": "execute_result"
    }
   ],
   "source": [
    "id(lx)"
   ]
  },
  {
   "cell_type": "code",
   "execution_count": 13,
   "metadata": {
    "collapsed": true
   },
   "outputs": [],
   "source": [
    "del lx"
   ]
  },
  {
   "cell_type": "code",
   "execution_count": 14,
   "metadata": {
    "collapsed": true
   },
   "outputs": [],
   "source": [
    "del car3"
   ]
  },
  {
   "cell_type": "code",
   "execution_count": 15,
   "metadata": {
    "collapsed": false
   },
   "outputs": [
    {
     "data": {
      "text/plain": [
       "576"
      ]
     },
     "execution_count": 15,
     "metadata": {},
     "output_type": "execute_result"
    }
   ],
   "source": [
    "import gc\n",
    "gc.collect()"
   ]
  },
  {
   "cell_type": "code",
   "execution_count": 16,
   "metadata": {
    "collapsed": true
   },
   "outputs": [],
   "source": [
    "lx = CarModel(\"FIT LX\", air=True, cruise_control=True, power_locks=True, tilt=True)"
   ]
  },
  {
   "cell_type": "code",
   "execution_count": 17,
   "metadata": {
    "collapsed": false
   },
   "outputs": [
    {
     "data": {
      "text/plain": [
       "1884777505792"
      ]
     },
     "execution_count": 17,
     "metadata": {},
     "output_type": "execute_result"
    }
   ],
   "source": [
    "id(lx)"
   ]
  },
  {
   "cell_type": "code",
   "execution_count": 18,
   "metadata": {
    "collapsed": true
   },
   "outputs": [],
   "source": [
    "lx  = CarModel(\"FIT LX\")"
   ]
  },
  {
   "cell_type": "code",
   "execution_count": 19,
   "metadata": {
    "collapsed": false
   },
   "outputs": [
    {
     "data": {
      "text/plain": [
       "1884777505792"
      ]
     },
     "execution_count": 19,
     "metadata": {},
     "output_type": "execute_result"
    }
   ],
   "source": [
    "id(lx)\n",
    "# should get the same id as just above"
   ]
  },
  {
   "cell_type": "code",
   "execution_count": 20,
   "metadata": {
    "collapsed": false
   },
   "outputs": [
    {
     "data": {
      "text/plain": [
       "True"
      ]
     },
     "execution_count": 20,
     "metadata": {},
     "output_type": "execute_result"
    }
   ],
   "source": [
    "lx.air"
   ]
  },
  {
   "cell_type": "markdown",
   "metadata": {},
   "source": [
    "# The command pattern"
   ]
  },
  {
   "cell_type": "markdown",
   "metadata": {
    "collapsed": true
   },
   "source": [
    "#an example of this pattern is used in the GUI actions frameworks. how to deal with actions and invokers and receives.\n",
    "Let's implement a simple command pattern that provides commands for Save and\n",
    "Exit actions. We'll start with some modest receiver classes:"
   ]
  },
  {
   "cell_type": "code",
   "execution_count": 1,
   "metadata": {
    "collapsed": true
   },
   "outputs": [],
   "source": [
    "import sys\n",
    "\n",
    "class Window:\n",
    "    def exit(self):\n",
    "        sys.exit(0)\n",
    "\n",
    "class Document:\n",
    "    def __init__(self, filename):\n",
    "        self.filename = filename\n",
    "        self.contents = \"This file cannot be modified\"\n",
    "    def save(self):\n",
    "        with open(self.filename, 'w') as file:\n",
    "            file.write(self.contents)\n",
    "            "
   ]
  },
  {
   "cell_type": "code",
   "execution_count": 2,
   "metadata": {
    "collapsed": true
   },
   "outputs": [],
   "source": [
    "# the invokers interfaces\n",
    "class ToolbarButton:\n",
    "    def __init__(self, name, iconname):\n",
    "        self.name = name\n",
    "        self.iconname = iconname\n",
    "    \n",
    "    def click(self):\n",
    "        self.command.execute()\n",
    "\n",
    "class MenuItem:\n",
    "    def __init__(self, menu_name, menuitem_name):\n",
    "        self.menu = menu_name\n",
    "        self.item = menuitem_name\n",
    "    \n",
    "    def click(self):\n",
    "        self.command.execute()\n",
    "\n",
    "class KeyboardShortcut:\n",
    "    def __init__(self, key, modifier):\n",
    "        self.key = key\n",
    "        self.modifier = modifier\n",
    "    \n",
    "    def keypress(self):\n",
    "        self.command.execute()\n",
    "    "
   ]
  },
  {
   "cell_type": "code",
   "execution_count": 8,
   "metadata": {
    "collapsed": true
   },
   "outputs": [],
   "source": [
    "# LETS SETS THE COMMANDS\n",
    "class SaveCommand:\n",
    "    def __init__(self, document):\n",
    "        self.document = document\n",
    "    \n",
    "    def execute(self):\n",
    "        self.document.save()\n",
    "\n",
    "class ExitCommand:\n",
    "    def __init__(self, window):\n",
    "        self.window = window\n",
    "    \n",
    "    def execute(self):\n",
    "        self.window.exit()\n",
    "        "
   ]
  },
  {
   "cell_type": "code",
   "execution_count": 13,
   "metadata": {
    "collapsed": true
   },
   "outputs": [],
   "source": [
    "#testing\n",
    "window = Window()\n",
    "document = Document(\"chapter11\\\\a_document.txt\")\n",
    "save = SaveCommand(document)\n",
    "exit = ExitCommand(window)\n",
    "\n",
    "save_button = ToolbarButton('save','chapter11\\\\save.png')\n",
    "save_button.command = save\n",
    "save_keystroke = KeyboardShortcut(\"s\", \"ctrl\")\n",
    "save_keystroke.command = save\n",
    "exit_menu = MenuItem(\"File\",\"Exit\")\n",
    "exit_menu.command = exit\n"
   ]
  },
  {
   "cell_type": "code",
   "execution_count": 14,
   "metadata": {
    "collapsed": false
   },
   "outputs": [
    {
     "ename": "SystemExit",
     "evalue": "0",
     "output_type": "error",
     "traceback": [
      "An exception has occurred, use %tb to see the full traceback.\n",
      "\u001b[0;31mSystemExit\u001b[0m\u001b[0;31m:\u001b[0m 0\n"
     ]
    },
    {
     "name": "stderr",
     "output_type": "stream",
     "text": [
      "C:\\Users\\XI316270\\Applications\\Anaconda3\\lib\\site-packages\\IPython\\core\\interactiveshell.py:2889: UserWarning: To exit: use 'exit', 'quit', or Ctrl-D.\n",
      "  warn(\"To exit: use 'exit', 'quit', or Ctrl-D.\", stacklevel=1)\n"
     ]
    }
   ],
   "source": [
    "exit_menu.click()"
   ]
  },
  {
   "cell_type": "code",
   "execution_count": 15,
   "metadata": {
    "collapsed": false
   },
   "outputs": [],
   "source": [
    "save_keystroke.keypress()"
   ]
  },
  {
   "cell_type": "markdown",
   "metadata": {},
   "source": [
    "#Instead of an object with an execute() method, we can write a function\n",
    "and use that as the command directly. This is a common paradigm for the command\n",
    "pattern in Python:"
   ]
  },
  {
   "cell_type": "code",
   "execution_count": 16,
   "metadata": {
    "collapsed": true
   },
   "outputs": [],
   "source": [
    "import sys\n",
    "\n",
    "class Window:\n",
    "    def exit(self):\n",
    "        sys.exit(0)\n",
    "\n",
    "class MenuItem:\n",
    "    def click(self):\n",
    "        self.command()\n",
    "\n",
    "window = Window()\n",
    "menu_item = MenuItem()\n",
    "menu_item.command = window.exit\n"
   ]
  },
  {
   "cell_type": "code",
   "execution_count": null,
   "metadata": {
    "collapsed": true
   },
   "outputs": [],
   "source": [
    "#above example with a function is the simplier way\n",
    "# Inc ase we want to maintain a state for instance, we then need classes\n",
    "# but we can add a __call__ method to the class, so it acts like a funciton\n",
    "# A more advanced usage we can use this:\n",
    "class Document:\n",
    "    def __init(self, filename):\n",
    "        self.filename = filename\n",
    "        self.contents = \"This file cannot be modified\"\n",
    "        \n",
    "    def save(self):\n",
    "        with open(self.filename, 'w') as file:\n",
    "            file.write(self.contents)\n",
    "            \n",
    "class KeyboardShortcut:\n",
    "    def keypress(self):\n",
    "        self.command()\n",
    "\n",
    "class SaveCommand:\n",
    "    def __init__(self, document):\n",
    "        self.document = document\n",
    "    \n",
    "    def __call__(self):\n",
    "        self.document.save()\n",
    "\n",
    "document = Document(\"chapter11\\\\a_file.txt\")\n",
    "shortcut = KeyboardShortcut()\n",
    "save_command = SaveCommand(document)\n",
    "shortcut.command = save_command\n",
    "\n",
    "            "
   ]
  },
  {
   "cell_type": "markdown",
   "metadata": {
    "collapsed": true
   },
   "source": [
    "# The abstract factory pattern"
   ]
  },
  {
   "cell_type": "markdown",
   "metadata": {},
   "source": [
    "A pattern to design classes for formating dates and currency according to locate countries, like Usa and France"
   ]
  },
  {
   "cell_type": "code",
   "execution_count": 5,
   "metadata": {
    "collapsed": false
   },
   "outputs": [],
   "source": [
    "class FranceDateFormatter:\n",
    "    def format_date(self, y, m, d):\n",
    "        y, m, d = (str(x) for x in (y,m,d))\n",
    "        y = '20' + y if len(y) == 2 else y\n",
    "        m = '0' + m if len(m) == 1 else m\n",
    "        d = '0' + d if len(d) == 1 else d\n",
    "        return(\"{0}/{1}/{2}\".format(d,m,y))\n",
    "\n",
    "class USADateFormatter:\n",
    "    def format_date(self, y, m, d):\n",
    "        y, m, d = (str(x) for x in (y,m,d))\n",
    "        y = '20' + y if len(y) == 2 else y\n",
    "        m = '0' + m if len(m) == 1 else m\n",
    "        d = '0' + d if len(d) == 1 else d\n",
    "        return \"{0}-{1}-{2}\".format(m,d,y)\n",
    "\n",
    "class FranceCurrencyFormatter:\n",
    "    def format_currency(self, base, cents):\n",
    "        base, cents = (str(x) for x in (base, cents))\n",
    "        if len(cents) == 0:\n",
    "            cents = '00'\n",
    "        elif len(cents) == 1:\n",
    "            cents = '0' + cents\n",
    "        digits = []\n",
    "        for i,c in enumerate(reversed(base)):\n",
    "            if i and not i % 3:\n",
    "                digits.append(' ')\n",
    "            digits.append(c)\n",
    "        base = ''.join(reversed(digits))\n",
    "        return \"{0}E{1}\".format(base, cents)\n",
    "\n",
    "class USACurrencyFormatter:\n",
    "    def format_currency(self, base, cents):\n",
    "        base, cents = (str(x) for x in (base, cents))\n",
    "        if len(cents) == 0:\n",
    "            cents = '00'\n",
    "        elif len(cents) == 1:\n",
    "            cents = '0' + cents\n",
    "        digits = []\n",
    "        for i,c in enumerate(reversed(base)):\n",
    "            if i and not i % 3:\n",
    "                digits.append(',')\n",
    "            digits.append(c)\n",
    "        base = ''.join(reversed(digits))\n",
    "        return \"${0}.{1}\".format(base, cents)\n",
    "    "
   ]
  },
  {
   "cell_type": "code",
   "execution_count": 6,
   "metadata": {
    "collapsed": true
   },
   "outputs": [],
   "source": [
    "#Now that we have the formatters set up, we just need to create the formatter factories:\n",
    "class USAFormatterFactory:\n",
    "    def create_date_formatter(self):\n",
    "        return USADateFormatter()\n",
    "    def create_currency_formatter(self):\n",
    "        return USACurrencyFormatter()\n",
    "\n",
    "class FranceFormatterFactory:\n",
    "    def create_date_formatter(self):\n",
    "        return FranceDateFormatter()\n",
    "    def create_currency_formatter(self):\n",
    "        return FranceCurrencyFormatter()\n"
   ]
  },
  {
   "cell_type": "code",
   "execution_count": 7,
   "metadata": {
    "collapsed": true
   },
   "outputs": [],
   "source": [
    "# a module-level variable:\n",
    "country_code = 'US'\n",
    "factory_map = {\"US\": USAFormatterFactory, \"FR\": FranceFormatterFactory}\n",
    "formatter_factory = factory_map.get(country_code)()"
   ]
  },
  {
   "cell_type": "markdown",
   "metadata": {},
   "source": [
    "# The composite pattern"
   ]
  },
  {
   "cell_type": "code",
   "execution_count": 16,
   "metadata": {
    "collapsed": true
   },
   "outputs": [],
   "source": [
    "class Folder:\n",
    "    def __init__(self, name):\n",
    "        self.name = name\n",
    "        self.children = {}\n",
    "        \n",
    "    def add_child(self, child):\n",
    "        pass\n",
    "    \n",
    "    def move(self, new_path):\n",
    "        pass\n",
    "    \n",
    "    def copy(self, new_path):\n",
    "        pass\n",
    "    \n",
    "    def delete(self):\n",
    "        pass\n",
    "    \n",
    "class File:\n",
    "    def __init__(self, name, contents):\n",
    "        self.name = name\n",
    "        self.contents = contents\n",
    "    \n",
    "    def move(self, new_path):\n",
    "        pass\n",
    "    \n",
    "    def copy(self, new_path):\n",
    "        pass\n",
    "    \n",
    "    def delete(self):\n",
    "        pass\n",
    "\n",
    "    "
   ]
  },
  {
   "cell_type": "code",
   "execution_count": 21,
   "metadata": {
    "collapsed": false
   },
   "outputs": [],
   "source": [
    "#To take advantage of the similar operations, \n",
    "# we can extract some of the common methods into a parent class\n",
    "class Component:\n",
    "    def __init__(self, name):\n",
    "        self.name = name\n",
    "    \n",
    "    def move(self, new_path):\n",
    "        new_folder = get_path(new_path)\n",
    "        del self.parent.children[self.name]\n",
    "        new_folder.children[self.name] = self\n",
    "        self.parent = new_folder\n",
    "        \n",
    "    def delete(self):\n",
    "        del self.parent.children[self.name]\n",
    "\n",
    "class Folder(Component):\n",
    "    def __init__(self, name):\n",
    "        super().__init__(name)\n",
    "        self.children = {}\n",
    "    \n",
    "    def add_child(self, child):\n",
    "        child.parent = self\n",
    "        self.children[child.name] = child\n",
    "    \n",
    "    def copy(self, new_path):\n",
    "        pass\n",
    "\n",
    "class File(Component):\n",
    "    def __init__(self, name, contents):\n",
    "        super().__init__(name)\n",
    "        self.contents = contents\n",
    "    \n",
    "    def copy(self, new_path):\n",
    "        pass\n",
    "    \n",
    "root = Folder('')\n",
    "def get_path(path):\n",
    "    names = path.split('\\\\')[1:]\n",
    "    node = root\n",
    "    for name in names:\n",
    "        node = node.children[name]\n",
    "    return node\n",
    "\n",
    "        "
   ]
  },
  {
   "cell_type": "code",
   "execution_count": 23,
   "metadata": {
    "collapsed": false
   },
   "outputs": [
    {
     "data": {
      "text/plain": [
       "{'file21': <__main__.File at 0x2516563ef28>}"
      ]
     },
     "execution_count": 23,
     "metadata": {},
     "output_type": "execute_result"
    }
   ],
   "source": [
    "folder1 = Folder('folder1')\n",
    "folder2 = Folder('folder2')\n",
    "root.add_child(folder1)\n",
    "root.add_child(folder2) \n",
    "folder11 = Folder('folder11')\n",
    "folder1.add_child(folder11)\n",
    "file111 = File('file111', 'contents')\n",
    "folder11.add_child(file111)\n",
    "file21 = File('file21', 'other contents') \n",
    "folder2.add_child(file21)\n",
    "folder2.children \n"
   ]
  },
  {
   "cell_type": "code",
   "execution_count": 24,
   "metadata": {
    "collapsed": false
   },
   "outputs": [],
   "source": [
    "folder2.move('\\\\folder1\\\\folder11')"
   ]
  },
  {
   "cell_type": "code",
   "execution_count": 25,
   "metadata": {
    "collapsed": false
   },
   "outputs": [
    {
     "data": {
      "text/plain": [
       "{'file111': <__main__.File at 0x2516563efd0>,\n",
       " 'folder2': <__main__.Folder at 0x2516563eef0>}"
      ]
     },
     "execution_count": 25,
     "metadata": {},
     "output_type": "execute_result"
    }
   ],
   "source": [
    "folder11.children"
   ]
  },
  {
   "cell_type": "code",
   "execution_count": 27,
   "metadata": {
    "collapsed": false
   },
   "outputs": [],
   "source": [
    "file21.move('\\\\folder1')"
   ]
  },
  {
   "cell_type": "code",
   "execution_count": 28,
   "metadata": {
    "collapsed": false
   },
   "outputs": [
    {
     "data": {
      "text/plain": [
       "{'file21': <__main__.File at 0x2516563ef28>,\n",
       " 'folder11': <__main__.Folder at 0x2516563ec88>}"
      ]
     },
     "execution_count": 28,
     "metadata": {},
     "output_type": "execute_result"
    }
   ],
   "source": [
    "folder1.children"
   ]
  },
  {
   "cell_type": "code",
   "execution_count": 30,
   "metadata": {
    "collapsed": false
   },
   "outputs": [
    {
     "data": {
      "text/plain": [
       "{'file111': <__main__.File at 0x2516563efd0>,\n",
       " 'folder2': <__main__.Folder at 0x2516563eef0>}"
      ]
     },
     "execution_count": 30,
     "metadata": {},
     "output_type": "execute_result"
    }
   ],
   "source": [
    "get_path('\\\\folder1\\\\folder11').children"
   ]
  },
  {
   "cell_type": "code",
   "execution_count": null,
   "metadata": {
    "collapsed": true
   },
   "outputs": [],
   "source": []
  },
  {
   "cell_type": "code",
   "execution_count": null,
   "metadata": {
    "collapsed": true
   },
   "outputs": [],
   "source": []
  },
  {
   "cell_type": "code",
   "execution_count": null,
   "metadata": {
    "collapsed": true
   },
   "outputs": [],
   "source": []
  },
  {
   "cell_type": "code",
   "execution_count": null,
   "metadata": {
    "collapsed": true
   },
   "outputs": [],
   "source": [
    "\n"
   ]
  },
  {
   "cell_type": "code",
   "execution_count": null,
   "metadata": {
    "collapsed": true
   },
   "outputs": [],
   "source": []
  }
 ],
 "metadata": {
  "kernelspec": {
   "display_name": "Python 3",
   "language": "python",
   "name": "python3"
  },
  "language_info": {
   "codemirror_mode": {
    "name": "ipython",
    "version": 3
   },
   "file_extension": ".py",
   "mimetype": "text/x-python",
   "name": "python",
   "nbconvert_exporter": "python",
   "pygments_lexer": "ipython3",
   "version": "3.6.0"
  }
 },
 "nbformat": 4,
 "nbformat_minor": 2
}
